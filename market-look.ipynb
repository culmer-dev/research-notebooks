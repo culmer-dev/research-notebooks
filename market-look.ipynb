{
 "cells": [
  {
   "cell_type": "code",
   "execution_count": 1,
   "id": "27e3f008",
   "metadata": {},
   "outputs": [
    {
     "name": "stdout",
     "output_type": "stream",
     "text": [
      "Requirement already satisfied: QuantLib-Python in /Users/colinulmer/code/data-repo/.venv/lib/python3.13/site-packages (1.18)\n",
      "Requirement already satisfied: QuantLib in /Users/colinulmer/code/data-repo/.venv/lib/python3.13/site-packages (from QuantLib-Python) (1.39)\n",
      "\n",
      "\u001b[1m[\u001b[0m\u001b[34;49mnotice\u001b[0m\u001b[1;39;49m]\u001b[0m\u001b[39;49m A new release of pip is available: \u001b[0m\u001b[31;49m25.1.1\u001b[0m\u001b[39;49m -> \u001b[0m\u001b[32;49m25.2\u001b[0m\n",
      "\u001b[1m[\u001b[0m\u001b[34;49mnotice\u001b[0m\u001b[1;39;49m]\u001b[0m\u001b[39;49m To update, run: \u001b[0m\u001b[32;49mpip install --upgrade pip\u001b[0m\n",
      "Note: you may need to restart the kernel to use updated packages.\n"
     ]
    }
   ],
   "source": [
    "%pip install QuantLib-Python"
   ]
  },
  {
   "cell_type": "code",
   "execution_count": 2,
   "id": "461a030e",
   "metadata": {},
   "outputs": [
    {
     "name": "stderr",
     "output_type": "stream",
     "text": [
      "/var/folders/fb/5cqcjc6s6cd5gq0md5svmnlm0000gn/T/ipykernel_66093/4129372304.py:19: UserWarning: Sortedness of columns cannot be checked when 'by' groups provided\n",
      "  combined_df = option_df.join_asof(\n"
     ]
    },
    {
     "data": {
      "text/html": [
       "<div><style>\n",
       ".dataframe > thead > tr,\n",
       ".dataframe > tbody > tr {\n",
       "  text-align: right;\n",
       "  white-space: pre-wrap;\n",
       "}\n",
       "</style>\n",
       "<small>shape: (5, 12)</small><table border=\"1\" class=\"dataframe\"><thead><tr><th>option_ticker</th><th>volume</th><th>option_market_price</th><th>timestamp</th><th>underlying_ticker</th><th>expiration_date</th><th>option_type</th><th>strike_price</th><th>spot</th><th>evaluation_date</th><th>days_to_expiration</th><th>risk_free_rate</th></tr><tr><td>str</td><td>i64</td><td>decimal[*,2]</td><td>datetime[ns]</td><td>str</td><td>datetime[ns]</td><td>enum</td><td>f64</td><td>f64</td><td>date</td><td>i64</td><td>f64</td></tr></thead><tbody><tr><td>&quot;O:A250815C00095000&quot;</td><td>1</td><td>23.78</td><td>2025-08-14 04:00:00</td><td>&quot;A&quot;</td><td>2025-08-15 00:00:00</td><td>&quot;CALL&quot;</td><td>95.0</td><td>119.23</td><td>2025-08-14</td><td>1</td><td>0.043</td></tr><tr><td>&quot;O:A250815C00100000&quot;</td><td>1</td><td>19.00</td><td>2025-08-14 04:00:00</td><td>&quot;A&quot;</td><td>2025-08-15 00:00:00</td><td>&quot;CALL&quot;</td><td>100.0</td><td>119.23</td><td>2025-08-14</td><td>1</td><td>0.043</td></tr><tr><td>&quot;O:A250815C00110000&quot;</td><td>7</td><td>8.50</td><td>2025-08-14 04:00:00</td><td>&quot;A&quot;</td><td>2025-08-15 00:00:00</td><td>&quot;CALL&quot;</td><td>110.0</td><td>119.23</td><td>2025-08-14</td><td>1</td><td>0.043</td></tr><tr><td>&quot;O:A250815C00115000&quot;</td><td>31</td><td>3.75</td><td>2025-08-14 04:00:00</td><td>&quot;A&quot;</td><td>2025-08-15 00:00:00</td><td>&quot;CALL&quot;</td><td>115.0</td><td>119.23</td><td>2025-08-14</td><td>1</td><td>0.043</td></tr><tr><td>&quot;O:A250815C00120000&quot;</td><td>181</td><td>0.65</td><td>2025-08-14 04:00:00</td><td>&quot;A&quot;</td><td>2025-08-15 00:00:00</td><td>&quot;CALL&quot;</td><td>120.0</td><td>119.23</td><td>2025-08-14</td><td>1</td><td>0.043</td></tr></tbody></table></div>"
      ],
      "text/plain": [
       "shape: (5, 12)\n",
       "┌────────────┬────────┬────────────┬────────────┬───┬────────┬────────────┬────────────┬───────────┐\n",
       "│ option_tic ┆ volume ┆ option_mar ┆ timestamp  ┆ … ┆ spot   ┆ evaluation ┆ days_to_ex ┆ risk_free │\n",
       "│ ker        ┆ ---    ┆ ket_price  ┆ ---        ┆   ┆ ---    ┆ _date      ┆ piration   ┆ _rate     │\n",
       "│ ---        ┆ i64    ┆ ---        ┆ datetime[n ┆   ┆ f64    ┆ ---        ┆ ---        ┆ ---       │\n",
       "│ str        ┆        ┆ decimal[*, ┆ s]         ┆   ┆        ┆ date       ┆ i64        ┆ f64       │\n",
       "│            ┆        ┆ 2]         ┆            ┆   ┆        ┆            ┆            ┆           │\n",
       "╞════════════╪════════╪════════════╪════════════╪═══╪════════╪════════════╪════════════╪═══════════╡\n",
       "│ O:A250815C ┆ 1      ┆ 23.78      ┆ 2025-08-14 ┆ … ┆ 119.23 ┆ 2025-08-14 ┆ 1          ┆ 0.043     │\n",
       "│ 00095000   ┆        ┆            ┆ 04:00:00   ┆   ┆        ┆            ┆            ┆           │\n",
       "│ O:A250815C ┆ 1      ┆ 19.00      ┆ 2025-08-14 ┆ … ┆ 119.23 ┆ 2025-08-14 ┆ 1          ┆ 0.043     │\n",
       "│ 00100000   ┆        ┆            ┆ 04:00:00   ┆   ┆        ┆            ┆            ┆           │\n",
       "│ O:A250815C ┆ 7      ┆ 8.50       ┆ 2025-08-14 ┆ … ┆ 119.23 ┆ 2025-08-14 ┆ 1          ┆ 0.043     │\n",
       "│ 00110000   ┆        ┆            ┆ 04:00:00   ┆   ┆        ┆            ┆            ┆           │\n",
       "│ O:A250815C ┆ 31     ┆ 3.75       ┆ 2025-08-14 ┆ … ┆ 119.23 ┆ 2025-08-14 ┆ 1          ┆ 0.043     │\n",
       "│ 00115000   ┆        ┆            ┆ 04:00:00   ┆   ┆        ┆            ┆            ┆           │\n",
       "│ O:A250815C ┆ 181    ┆ 0.65       ┆ 2025-08-14 ┆ … ┆ 119.23 ┆ 2025-08-14 ┆ 1          ┆ 0.043     │\n",
       "│ 00120000   ┆        ┆            ┆ 04:00:00   ┆   ┆        ┆            ┆            ┆           │\n",
       "└────────────┴────────┴────────────┴────────────┴───┴────────┴────────────┴────────────┴───────────┘"
      ]
     },
     "execution_count": 2,
     "metadata": {},
     "output_type": "execute_result"
    }
   ],
   "source": [
    "import os\n",
    "import glob\n",
    "import polars as pl\n",
    "import numpy as np\n",
    "import QuantLib as ql\n",
    "from enhance_parquet import CleanParquetUtility\n",
    "\n",
    "#option_df = pl.read_parquet(glob.glob(os.path.join(\"test_data/option_agg_month\", \"**\", \"*.parquet\"), recursive=True))\n",
    "option_df = pl.read_parquet(\"test_data/current_options_day_aggs.parquet\")\n",
    "option_df = CleanParquetUtility.option_aggs_parquet(option_df)\n",
    "\n",
    "#stock_df = pl.read_parquet(glob.glob(os.path.join(\"test_data/stock_agg_month\", \"**\", \"*.parquet\"), recursive=True))\n",
    "stock_df = pl.read_parquet(\"test_data/current_stocks_day_aggs.parquet\")\n",
    "stock_df = CleanParquetUtility.stock_aggs_parquet(stock_df)\n",
    "\n",
    "# Add current underlying price to options df\n",
    "stock_df = stock_df.select('ticker', 'price', 'timestamp')\n",
    "stock_df = stock_df.rename({'ticker': 'underlying_ticker'})\n",
    "combined_df = option_df.join_asof(\n",
    "    stock_df,\n",
    "    on='timestamp',\n",
    "    by='underlying_ticker',\n",
    "    strategy='nearest',\n",
    "    tolerance='1m'\n",
    ")\n",
    "\n",
    "# Convert timestamp to just date\n",
    "combined_df = combined_df.with_columns(\n",
    "    pl.col('timestamp').dt.date().alias('date'),\n",
    ")\n",
    "combined_df = combined_df.with_columns(\n",
    "    (pl.col('expiration_date').dt.date() - pl.col('date')).dt.total_days().alias('days_to_expiration')\n",
    ")\n",
    "\n",
    "# Add r\n",
    "treasury_df = pl.read_parquet(\"test_data/treasury_yields.parquet\")\n",
    "treasury_df = CleanParquetUtility.treasury_parquet(treasury_df)\n",
    "treasury_df = treasury_df.select('date', '3m')\n",
    "treasury_df = treasury_df.rename({'3m': 'risk_free_rate'})\n",
    "treasury_df = treasury_df.with_columns(\n",
    "    pl.col('date').dt.date().alias('date')\n",
    ")\n",
    "combined_df = combined_df.join(treasury_df, on='date')\n",
    "\n",
    "# Rename columns to be consistent with option pricing engine\n",
    "combined_df = combined_df.rename({'date': 'evaluation_date',\n",
    "                                  'option_price': 'option_market_price',\n",
    "                                  'price': 'spot'})\n",
    "\n",
    "# Convert some types for coordination with the QL method\n",
    "combined_df = combined_df.with_columns(\n",
    "    pl.col('spot').cast(pl.Float64).alias('spot'),\n",
    "    pl.col('strike_price').cast(pl.Float64).alias('strike_price')    \n",
    ")\n",
    "\n",
    "# There are no spot prices for indexes in the data set so we drop the index options, in total there are 31 and they are\n",
    "# all of the nulls\n",
    "combined_df = combined_df.drop_nulls()\n",
    "\n",
    "combined_df.head()\n"
   ]
  },
  {
   "cell_type": "code",
   "execution_count": 3,
   "id": "ce300996",
   "metadata": {},
   "outputs": [],
   "source": [
    "# Using QuantLib we compute the IV and Greeks for an option using black-scholes-merton to get a market\n",
    "# adjusted view of pricing the option. While this is fast and relativley accurate, more precise results\n",
    "# can be had utilizing different methods in the QuantLib library. Most people use BSM for basics and advanced\n",
    "# methods for risk-control, price-discovery, etc. For my purpose, BSM is more than sufficent right now \n",
    "\n",
    "from QuantLib import (Date, Settings, Actual365Fixed, NullCalendar, QuoteHandle, SimpleQuote,\n",
    "                        YieldTermStructureHandle, FlatForward, RelinkableBlackVolTermStructureHandle,\n",
    "                        BlackConstantVol, GeneralizedBlackScholesProcess, PlainVanillaPayoff,\n",
    "                        Option, EuropeanExercise, VanillaOption, AnalyticEuropeanEngine)\n",
    "\n",
    "def ql_bsm_iv_and_greeks(evaluation_date: Date,\n",
    "                         option_market_price: float,\n",
    "                         spot: float,\n",
    "                         strike_price: float,\n",
    "                         days_to_expiration: int,\n",
    "                         risk_free_rate: float,\n",
    "                         option_type: str,\n",
    "                         dividend=0.0):\n",
    "\n",
    "    ql_evaluationDate = ql.Date(evaluation_date.day, evaluation_date.month, evaluation_date.year)\n",
    "    Settings.instance().evaluationDate = ql_evaluationDate\n",
    "    dc = Actual365Fixed()\n",
    "    cal = NullCalendar()\n",
    "    maturity = ql_evaluationDate + days_to_expiration\n",
    "\n",
    "    spot_quote = QuoteHandle(SimpleQuote(spot))\n",
    "    rf   = YieldTermStructureHandle(FlatForward(ql_evaluationDate, risk_free_rate, dc))\n",
    "    div  = YieldTermStructureHandle(FlatForward(ql_evaluationDate, dividend, dc))\n",
    "    volh = RelinkableBlackVolTermStructureHandle(BlackConstantVol(ql_evaluationDate, cal, 0.20, dc))  # seed\n",
    "    proc = GeneralizedBlackScholesProcess(spot_quote, div, rf, volh)\n",
    "\n",
    "    ql_option_type = Option.Call if option_type == \"CALL\" else Option.Put\n",
    "    payoff   = PlainVanillaPayoff(ql_option_type, strike_price)\n",
    "    exercise = EuropeanExercise(maturity)\n",
    "    opt      = VanillaOption(payoff, exercise)\n",
    "    opt.setPricingEngine(AnalyticEuropeanEngine(proc))\n",
    "\n",
    "    try:\n",
    "        iv = opt.impliedVolatility(float(option_market_price), proc, 1e-10, 1000, 1e-8, 5.0)\n",
    "        volh.linkTo(BlackConstantVol(ql_evaluationDate, cal, iv, dc))  # lock at IV\n",
    "        return {\n",
    "            \"bsm-iv\": iv,\n",
    "            \"bsm-price\": opt.NPV(),\n",
    "            \"bsm-delta\": opt.delta(),\n",
    "            \"bsm-gamma\": opt.gamma(),\n",
    "            \"bsm-vega\":  opt.vega(),\n",
    "            \"bsm-theta\": opt.theta() / 365.0,\n",
    "            \"bsm-rho\":   opt.rho(),\n",
    "        }\n",
    "    except Exception as e:\n",
    "        # Unable to find a root, option is likely deep OTM or has no volume to get a relative market price, either way we don't want it\n",
    "        return {\n",
    "            \"bsm-iv\": float('nan'),\n",
    "            \"bsm-price\": float('nan'),\n",
    "            \"bsm-delta\": float('nan'),\n",
    "            \"bsm-gamma\": float('nan'),\n",
    "            \"bsm-vega\":  float('nan'),\n",
    "            \"bsm-theta\": float('nan'),\n",
    "            \"bsm-rho\":   float('nan'),\n",
    "        }  \n"
   ]
  },
  {
   "cell_type": "code",
   "execution_count": 4,
   "id": "4c8654f6",
   "metadata": {},
   "outputs": [],
   "source": [
    "# Create an adaptor to plug the method into the polars dataframe and use vectorized batching\n",
    "from typing import List, Dict\n",
    "import datetime\n",
    "\n",
    "def ql_bsm_iv_and_greeks_connector(batch) -> pl.Series:\n",
    "    evaluation_date_batch: List[datetime.date] = batch[0]\n",
    "    option_market_price_batch: List[float] = batch[1]\n",
    "    spot_batch: List[float] = batch[2]\n",
    "    strike_price_batch: List[float] = batch[3]\n",
    "    days_to_expiration_batch: List[int] = batch[4]\n",
    "    risk_free_rate_batch: List[float] = batch[5]\n",
    "    option_type_batch: List[str] = batch[6]\n",
    "    dividend: float = 0.0 # if adding dividends in the future adjust per batch\n",
    "    \n",
    "    bsm_results: List[Dict[str, float]] = []\n",
    "    for idx in range(len(evaluation_date_batch)):\n",
    "        bsm_res = ql_bsm_iv_and_greeks(evaluation_date=evaluation_date_batch[idx],\n",
    "                                       option_market_price=option_market_price_batch[idx],\n",
    "                                       spot=spot_batch[idx],\n",
    "                                       strike_price=strike_price_batch[idx],\n",
    "                                       days_to_expiration=days_to_expiration_batch[idx],\n",
    "                                       risk_free_rate=risk_free_rate_batch[idx],\n",
    "                                       option_type=option_type_batch[idx],\n",
    "                                       dividend=dividend)\n",
    "        bsm_results.append(bsm_res)\n",
    "    \n",
    "    return pl.Series(bsm_results)\n",
    "\n"
   ]
  },
  {
   "cell_type": "code",
   "execution_count": 5,
   "id": "7229d727",
   "metadata": {},
   "outputs": [
    {
     "data": {
      "text/html": [
       "<div><style>\n",
       ".dataframe > thead > tr,\n",
       ".dataframe > tbody > tr {\n",
       "  text-align: right;\n",
       "  white-space: pre-wrap;\n",
       "}\n",
       "</style>\n",
       "<small>shape: (5, 19)</small><table border=\"1\" class=\"dataframe\"><thead><tr><th>option_ticker</th><th>volume</th><th>option_market_price</th><th>timestamp</th><th>underlying_ticker</th><th>expiration_date</th><th>option_type</th><th>strike_price</th><th>spot</th><th>evaluation_date</th><th>days_to_expiration</th><th>risk_free_rate</th><th>bsm-iv</th><th>bsm-price</th><th>bsm-delta</th><th>bsm-gamma</th><th>bsm-vega</th><th>bsm-theta</th><th>bsm-rho</th></tr><tr><td>str</td><td>i64</td><td>decimal[*,2]</td><td>datetime[ns]</td><td>str</td><td>datetime[ns]</td><td>enum</td><td>f64</td><td>f64</td><td>date</td><td>i64</td><td>f64</td><td>f64</td><td>f64</td><td>f64</td><td>f64</td><td>f64</td><td>f64</td><td>f64</td></tr></thead><tbody><tr><td>&quot;O:A250815C00120000&quot;</td><td>181</td><td>0.65</td><td>2025-08-14 04:00:00</td><td>&quot;A&quot;</td><td>2025-08-15 00:00:00</td><td>&quot;CALL&quot;</td><td>120.0</td><td>119.23</td><td>2025-08-14</td><td>1</td><td>0.043</td><td>0.393182</td><td>0.65</td><td>0.383317</td><td>0.155579</td><td>2.382447</td><td>-0.473676</td><td>0.123433</td></tr><tr><td>&quot;O:A250815C00125000&quot;</td><td>26</td><td>0.05</td><td>2025-08-14 04:00:00</td><td>&quot;A&quot;</td><td>2025-08-15 00:00:00</td><td>&quot;CALL&quot;</td><td>125.0</td><td>119.23</td><td>2025-08-14</td><td>1</td><td>0.043</td><td>0.508774</td><td>0.05</td><td>0.039468</td><td>0.026846</td><td>0.531965</td><td>-0.135873</td><td>0.012755</td></tr><tr><td>&quot;O:A250815C00130000&quot;</td><td>12</td><td>0.05</td><td>2025-08-14 04:00:00</td><td>&quot;A&quot;</td><td>2025-08-15 00:00:00</td><td>&quot;CALL&quot;</td><td>130.0</td><td>119.23</td><td>2025-08-14</td><td>1</td><td>0.043</td><td>0.837031</td><td>0.05</td><td>0.025631</td><td>0.011424</td><td>0.372435</td><td>-0.156224</td><td>0.008235</td></tr><tr><td>&quot;O:A250815P00120000&quot;</td><td>1</td><td>2.10</td><td>2025-08-14 04:00:00</td><td>&quot;A&quot;</td><td>2025-08-15 00:00:00</td><td>&quot;PUT&quot;</td><td>120.0</td><td>119.23</td><td>2025-08-14</td><td>1</td><td>0.043</td><td>0.678817</td><td>2.1</td><td>-0.563597</td><td>0.092972</td><td>2.45801</td><td>-0.826105</td><td>-0.189857</td></tr><tr><td>&quot;O:A250919C00105000&quot;</td><td>5</td><td>15.34</td><td>2025-08-14 04:00:00</td><td>&quot;A&quot;</td><td>2025-09-19 00:00:00</td><td>&quot;CALL&quot;</td><td>105.0</td><td>119.23</td><td>2025-08-14</td><td>36</td><td>0.043</td><td>0.345646</td><td>15.34</td><td>0.896914</td><td>0.013863</td><td>6.718567</td><td>-0.043045</td><td>9.034427</td></tr></tbody></table></div>"
      ],
      "text/plain": [
       "shape: (5, 19)\n",
       "┌────────────┬────────┬────────────┬────────────┬───┬───────────┬──────────┬───────────┬───────────┐\n",
       "│ option_tic ┆ volume ┆ option_mar ┆ timestamp  ┆ … ┆ bsm-gamma ┆ bsm-vega ┆ bsm-theta ┆ bsm-rho   │\n",
       "│ ker        ┆ ---    ┆ ket_price  ┆ ---        ┆   ┆ ---       ┆ ---      ┆ ---       ┆ ---       │\n",
       "│ ---        ┆ i64    ┆ ---        ┆ datetime[n ┆   ┆ f64       ┆ f64      ┆ f64       ┆ f64       │\n",
       "│ str        ┆        ┆ decimal[*, ┆ s]         ┆   ┆           ┆          ┆           ┆           │\n",
       "│            ┆        ┆ 2]         ┆            ┆   ┆           ┆          ┆           ┆           │\n",
       "╞════════════╪════════╪════════════╪════════════╪═══╪═══════════╪══════════╪═══════════╪═══════════╡\n",
       "│ O:A250815C ┆ 181    ┆ 0.65       ┆ 2025-08-14 ┆ … ┆ 0.155579  ┆ 2.382447 ┆ -0.473676 ┆ 0.123433  │\n",
       "│ 00120000   ┆        ┆            ┆ 04:00:00   ┆   ┆           ┆          ┆           ┆           │\n",
       "│ O:A250815C ┆ 26     ┆ 0.05       ┆ 2025-08-14 ┆ … ┆ 0.026846  ┆ 0.531965 ┆ -0.135873 ┆ 0.012755  │\n",
       "│ 00125000   ┆        ┆            ┆ 04:00:00   ┆   ┆           ┆          ┆           ┆           │\n",
       "│ O:A250815C ┆ 12     ┆ 0.05       ┆ 2025-08-14 ┆ … ┆ 0.011424  ┆ 0.372435 ┆ -0.156224 ┆ 0.008235  │\n",
       "│ 00130000   ┆        ┆            ┆ 04:00:00   ┆   ┆           ┆          ┆           ┆           │\n",
       "│ O:A250815P ┆ 1      ┆ 2.10       ┆ 2025-08-14 ┆ … ┆ 0.092972  ┆ 2.45801  ┆ -0.826105 ┆ -0.189857 │\n",
       "│ 00120000   ┆        ┆            ┆ 04:00:00   ┆   ┆           ┆          ┆           ┆           │\n",
       "│ O:A250919C ┆ 5      ┆ 15.34      ┆ 2025-08-14 ┆ … ┆ 0.013863  ┆ 6.718567 ┆ -0.043045 ┆ 9.034427  │\n",
       "│ 00105000   ┆        ┆            ┆ 04:00:00   ┆   ┆           ┆          ┆           ┆           │\n",
       "└────────────┴────────┴────────────┴────────────┴───┴───────────┴──────────┴───────────┴───────────┘"
      ]
     },
     "execution_count": 5,
     "metadata": {},
     "output_type": "execute_result"
    }
   ],
   "source": [
    "# Plug the option pricing method into the dataframe to retrieve IV and Greeks from the QL method\n",
    "\n",
    "bsm_df = combined_df.with_columns([\n",
    "    pl.map_batches(\n",
    "        exprs=[\n",
    "            pl.col('evaluation_date'),\n",
    "            pl.col('option_market_price'),\n",
    "            pl.col('spot'),\n",
    "            pl.col('strike_price'),\n",
    "            pl.col('days_to_expiration'),\n",
    "            pl.col('risk_free_rate'),\n",
    "            pl.col('option_type')\n",
    "        ],\n",
    "        function=ql_bsm_iv_and_greeks_connector,\n",
    "        return_dtype=pl.Struct({\n",
    "            \"bsm-iv\": pl.Float64,\n",
    "            \"bsm-price\": pl.Float64,\n",
    "            \"bsm-delta\": pl.Float64,\n",
    "            \"bsm-gamma\": pl.Float64,\n",
    "            \"bsm-vega\": pl.Float64,\n",
    "            \"bsm-theta\": pl.Float64,\n",
    "            \"bsm-rho\": pl.Float64\n",
    "        })\n",
    "    ).alias('ql_results')\n",
    "]).unnest('ql_results')\n",
    "\n",
    "# Filter out contracts that could not have greeks calculated due to pricing/ or deep OTM\n",
    "full_df = bsm_df.filter(pl.col(\"bsm-iv\") != float('nan'))\n",
    "\n",
    "full_df.head()"
   ]
  },
  {
   "cell_type": "code",
   "execution_count": 6,
   "id": "b3066fc5",
   "metadata": {},
   "outputs": [
    {
     "data": {
      "text/html": [
       "<div><style>\n",
       ".dataframe > thead > tr,\n",
       ".dataframe > tbody > tr {\n",
       "  text-align: right;\n",
       "  white-space: pre-wrap;\n",
       "}\n",
       "</style>\n",
       "<small>shape: (5, 6)</small><table border=\"1\" class=\"dataframe\"><thead><tr><th>underlying_ticker</th><th>evaluation_date</th><th>strike_price</th><th>spot</th><th>days_to_expiration</th><th>bsm-iv</th></tr><tr><td>str</td><td>date</td><td>f64</td><td>f64</td><td>i64</td><td>f64</td></tr></thead><tbody><tr><td>&quot;A&quot;</td><td>2025-08-14</td><td>120.0</td><td>119.23</td><td>36</td><td>0.325789</td></tr><tr><td>&quot;AA&quot;</td><td>2025-08-14</td><td>31.0</td><td>31.08</td><td>29</td><td>0.403482</td></tr><tr><td>&quot;AAAU&quot;</td><td>2025-08-14</td><td>33.0</td><td>33.01</td><td>36</td><td>0.158129</td></tr><tr><td>&quot;AACT&quot;</td><td>2025-08-14</td><td>12.5</td><td>11.37</td><td>36</td><td>0.632987</td></tr><tr><td>&quot;AAL&quot;</td><td>2025-08-14</td><td>13.0</td><td>12.92</td><td>29</td><td>0.486809</td></tr></tbody></table></div>"
      ],
      "text/plain": [
       "shape: (5, 6)\n",
       "┌───────────────────┬─────────────────┬──────────────┬────────┬────────────────────┬──────────┐\n",
       "│ underlying_ticker ┆ evaluation_date ┆ strike_price ┆ spot   ┆ days_to_expiration ┆ bsm-iv   │\n",
       "│ ---               ┆ ---             ┆ ---          ┆ ---    ┆ ---                ┆ ---      │\n",
       "│ str               ┆ date            ┆ f64          ┆ f64    ┆ i64                ┆ f64      │\n",
       "╞═══════════════════╪═════════════════╪══════════════╪════════╪════════════════════╪══════════╡\n",
       "│ A                 ┆ 2025-08-14      ┆ 120.0        ┆ 119.23 ┆ 36                 ┆ 0.325789 │\n",
       "│ AA                ┆ 2025-08-14      ┆ 31.0         ┆ 31.08  ┆ 29                 ┆ 0.403482 │\n",
       "│ AAAU              ┆ 2025-08-14      ┆ 33.0         ┆ 33.01  ┆ 36                 ┆ 0.158129 │\n",
       "│ AACT              ┆ 2025-08-14      ┆ 12.5         ┆ 11.37  ┆ 36                 ┆ 0.632987 │\n",
       "│ AAL               ┆ 2025-08-14      ┆ 13.0         ┆ 12.92  ┆ 29                 ┆ 0.486809 │\n",
       "└───────────────────┴─────────────────┴──────────────┴────────┴────────────────────┴──────────┘"
      ]
     },
     "execution_count": 6,
     "metadata": {},
     "output_type": "execute_result"
    }
   ],
   "source": [
    "# Now that we can get BSM IV we need to get the ATM call option IV for each underlying to act as a proxy for an equities IV\n",
    "\n",
    "iv_stock_df = pl.read_parquet(\"test_data/current_stocks_day_aggs.parquet\")\n",
    "iv_stock_df = CleanParquetUtility.stock_aggs_parquet(iv_stock_df)\n",
    "iv_stock_df = iv_stock_df.select('ticker', 'price', 'timestamp')\n",
    "iv_stock_df = iv_stock_df.rename({'ticker': 'underlying_ticker'})\n",
    "\n",
    "# Filter for call options with days_to_expiration closest to 30 days\n",
    "iv_option_df = full_df.filter(pl.col(\"option_type\") == \"CALL\")\n",
    "\n",
    "# Find the closest DTE to 30 days for each underlying ticker and date\n",
    "closest_dte_df = iv_option_df.with_columns(\n",
    "        (pl.col(\"days_to_expiration\") - 30).abs().alias(\"dte_diff\")\n",
    ")\n",
    "closest_dte_df = closest_dte_df.group_by([\"underlying_ticker\", \"evaluation_date\"])\n",
    "closest_dte_df = closest_dte_df.agg(pl.col(\"dte_diff\").min().alias(\"min_dte_diff\"))\n",
    "\n",
    "# Join back to get options with closest DTE to 30 days\n",
    "iv_option_df = iv_option_df.with_columns(\n",
    "        (pl.col(\"days_to_expiration\") - 30).abs().alias(\"dte_diff\")\n",
    ")\n",
    "iv_option_df = iv_option_df.join(closest_dte_df, on=[\"underlying_ticker\", \"evaluation_date\"])\n",
    "iv_option_df = iv_option_df.filter(pl.col(\"dte_diff\") == pl.col(\"min_dte_diff\"))\n",
    "iv_option_df = iv_option_df.drop([\"dte_diff\", \"min_dte_diff\"])\n",
    "\n",
    "# Filter for strike price closest to current spot price\n",
    "closest_strike_df = iv_option_df.with_columns(\n",
    "        (pl.col(\"strike_price\") - pl.col(\"spot\")).abs().alias(\"strike_diff\")\n",
    ")\n",
    "closest_strike_df = closest_strike_df.group_by([\"underlying_ticker\", \"evaluation_date\"])\n",
    "closest_strike_df = closest_strike_df.agg(pl.col(\"strike_diff\").min().alias(\"min_strike_diff\"))\n",
    "\n",
    "# Join back to get options with closest strike to spot\n",
    "atm_iv_df = iv_option_df.with_columns(\n",
    "        (pl.col(\"strike_price\") - pl.col(\"spot\")).abs().alias(\"strike_diff\")\n",
    ")\n",
    "atm_iv_df = atm_iv_df.join(closest_strike_df, on=[\"underlying_ticker\", \"evaluation_date\"])\n",
    "atm_iv_df = atm_iv_df.filter(pl.col(\"strike_diff\") == pl.col(\"min_strike_diff\"))\n",
    "atm_iv_df = atm_iv_df.drop([\"strike_diff\", \"min_strike_diff\"])\n",
    "atm_iv_df = atm_iv_df.select([\"underlying_ticker\", \"evaluation_date\", \"strike_price\", \"spot\", \"days_to_expiration\", \"bsm-iv\"])\n",
    "\n",
    "atm_iv_df.head()"
   ]
  },
  {
   "cell_type": "code",
   "execution_count": 7,
   "id": "2a98ae3a",
   "metadata": {},
   "outputs": [
    {
     "data": {
      "text/html": [
       "<div><style>\n",
       ".dataframe > thead > tr,\n",
       ".dataframe > tbody > tr {\n",
       "  text-align: right;\n",
       "  white-space: pre-wrap;\n",
       "}\n",
       "</style>\n",
       "<small>shape: (20, 6)</small><table border=\"1\" class=\"dataframe\"><thead><tr><th>underlying_ticker</th><th>evaluation_date</th><th>strike_price</th><th>spot</th><th>days_to_expiration</th><th>bsm-iv</th></tr><tr><td>str</td><td>date</td><td>f64</td><td>f64</td><td>i64</td><td>f64</td></tr></thead><tbody><tr><td>&quot;FUTU&quot;</td><td>2025-08-14</td><td>172.5</td><td>173.3</td><td>29</td><td>0.6135</td></tr><tr><td>&quot;WGS&quot;</td><td>2025-08-14</td><td>119.0</td><td>120.23</td><td>29</td><td>0.615638</td></tr><tr><td>&quot;BLD&quot;</td><td>2025-08-14</td><td>340.0</td><td>435.32</td><td>36</td><td>0.623994</td></tr><tr><td>&quot;APP&quot;</td><td>2025-08-14</td><td>435.0</td><td>434.58</td><td>29</td><td>0.624979</td></tr><tr><td>&quot;POWL&quot;</td><td>2025-08-14</td><td>250.0</td><td>250.38</td><td>36</td><td>0.642807</td></tr><tr><td>&hellip;</td><td>&hellip;</td><td>&hellip;</td><td>&hellip;</td><td>&hellip;</td><td>&hellip;</td></tr><tr><td>&quot;UTHR&quot;</td><td>2025-08-14</td><td>300.0</td><td>308.83</td><td>36</td><td>0.912697</td></tr><tr><td>&quot;NVDU&quot;</td><td>2025-08-14</td><td>127.0</td><td>125.64</td><td>36</td><td>0.925024</td></tr><tr><td>&quot;CRCL&quot;</td><td>2025-08-14</td><td>152.5</td><td>152.0</td><td>29</td><td>0.926479</td></tr><tr><td>&quot;CRDO&quot;</td><td>2025-08-14</td><td>120.0</td><td>119.45</td><td>36</td><td>1.013115</td></tr><tr><td>&quot;GVA&quot;</td><td>2025-08-14</td><td>65.0</td><td>110.44</td><td>36</td><td>1.137886</td></tr></tbody></table></div>"
      ],
      "text/plain": [
       "shape: (20, 6)\n",
       "┌───────────────────┬─────────────────┬──────────────┬────────┬────────────────────┬──────────┐\n",
       "│ underlying_ticker ┆ evaluation_date ┆ strike_price ┆ spot   ┆ days_to_expiration ┆ bsm-iv   │\n",
       "│ ---               ┆ ---             ┆ ---          ┆ ---    ┆ ---                ┆ ---      │\n",
       "│ str               ┆ date            ┆ f64          ┆ f64    ┆ i64                ┆ f64      │\n",
       "╞═══════════════════╪═════════════════╪══════════════╪════════╪════════════════════╪══════════╡\n",
       "│ FUTU              ┆ 2025-08-14      ┆ 172.5        ┆ 173.3  ┆ 29                 ┆ 0.6135   │\n",
       "│ WGS               ┆ 2025-08-14      ┆ 119.0        ┆ 120.23 ┆ 29                 ┆ 0.615638 │\n",
       "│ BLD               ┆ 2025-08-14      ┆ 340.0        ┆ 435.32 ┆ 36                 ┆ 0.623994 │\n",
       "│ APP               ┆ 2025-08-14      ┆ 435.0        ┆ 434.58 ┆ 29                 ┆ 0.624979 │\n",
       "│ POWL              ┆ 2025-08-14      ┆ 250.0        ┆ 250.38 ┆ 36                 ┆ 0.642807 │\n",
       "│ …                 ┆ …               ┆ …            ┆ …      ┆ …                  ┆ …        │\n",
       "│ UTHR              ┆ 2025-08-14      ┆ 300.0        ┆ 308.83 ┆ 36                 ┆ 0.912697 │\n",
       "│ NVDU              ┆ 2025-08-14      ┆ 127.0        ┆ 125.64 ┆ 36                 ┆ 0.925024 │\n",
       "│ CRCL              ┆ 2025-08-14      ┆ 152.5        ┆ 152.0  ┆ 29                 ┆ 0.926479 │\n",
       "│ CRDO              ┆ 2025-08-14      ┆ 120.0        ┆ 119.45 ┆ 36                 ┆ 1.013115 │\n",
       "│ GVA               ┆ 2025-08-14      ┆ 65.0         ┆ 110.44 ┆ 36                 ┆ 1.137886 │\n",
       "└───────────────────┴─────────────────┴──────────────┴────────┴────────────────────┴──────────┘"
      ]
     },
     "execution_count": 7,
     "metadata": {},
     "output_type": "execute_result"
    }
   ],
   "source": [
    "stock_iv_df = atm_iv_df\n",
    "\n",
    "stock_iv_df = stock_iv_df.filter((pl.col(\"bsm-iv\") < 1.2) & (pl.col(\"days_to_expiration\") > 20) & (pl.col(\"days_to_expiration\") < 40))\n",
    "stock_iv_df = stock_iv_df.filter(pl.col(\"spot\") >= 100.0)\n",
    "stock_iv_df = stock_iv_df.top_k(20, by=\"bsm-iv\").sort(by=\"bsm-iv\")\n",
    "\n",
    "stock_iv_df.head(20)"
   ]
  },
  {
   "cell_type": "code",
   "execution_count": 8,
   "id": "dd752114",
   "metadata": {},
   "outputs": [
    {
     "data": {
      "text/html": [
       "<div><style>\n",
       ".dataframe > thead > tr,\n",
       ".dataframe > tbody > tr {\n",
       "  text-align: right;\n",
       "  white-space: pre-wrap;\n",
       "}\n",
       "</style>\n",
       "<small>shape: (5, 8)</small><table border=\"1\" class=\"dataframe\"><thead><tr><th>ticker</th><th>volume</th><th>open</th><th>close</th><th>high</th><th>low</th><th>window_start</th><th>transactions</th></tr><tr><td>str</td><td>i64</td><td>f64</td><td>f64</td><td>f64</td><td>f64</td><td>i64</td><td>i64</td></tr></thead><tbody><tr><td>&quot;A&quot;</td><td>1192289</td><td>147.61</td><td>147.84</td><td>149.475</td><td>147.242</td><td>1710216000000000000</td><td>25263</td></tr><tr><td>&quot;AA&quot;</td><td>6140114</td><td>30.6</td><td>29.79</td><td>30.75</td><td>29.21</td><td>1710216000000000000</td><td>47739</td></tr><tr><td>&quot;AAA&quot;</td><td>10922</td><td>25.06</td><td>25.06</td><td>25.1203</td><td>25.06</td><td>1710216000000000000</td><td>39</td></tr><tr><td>&quot;AAAU&quot;</td><td>2245730</td><td>21.435</td><td>21.355</td><td>21.45</td><td>21.29</td><td>1710216000000000000</td><td>2552</td></tr><tr><td>&quot;AACG&quot;</td><td>15825</td><td>1.63</td><td>1.59</td><td>1.63</td><td>1.53</td><td>1710216000000000000</td><td>164</td></tr></tbody></table></div>"
      ],
      "text/plain": [
       "shape: (5, 8)\n",
       "┌────────┬─────────┬────────┬────────┬─────────┬─────────┬─────────────────────┬──────────────┐\n",
       "│ ticker ┆ volume  ┆ open   ┆ close  ┆ high    ┆ low     ┆ window_start        ┆ transactions │\n",
       "│ ---    ┆ ---     ┆ ---    ┆ ---    ┆ ---     ┆ ---     ┆ ---                 ┆ ---          │\n",
       "│ str    ┆ i64     ┆ f64    ┆ f64    ┆ f64     ┆ f64     ┆ i64                 ┆ i64          │\n",
       "╞════════╪═════════╪════════╪════════╪═════════╪═════════╪═════════════════════╪══════════════╡\n",
       "│ A      ┆ 1192289 ┆ 147.61 ┆ 147.84 ┆ 149.475 ┆ 147.242 ┆ 1710216000000000000 ┆ 25263        │\n",
       "│ AA     ┆ 6140114 ┆ 30.6   ┆ 29.79  ┆ 30.75   ┆ 29.21   ┆ 1710216000000000000 ┆ 47739        │\n",
       "│ AAA    ┆ 10922   ┆ 25.06  ┆ 25.06  ┆ 25.1203 ┆ 25.06   ┆ 1710216000000000000 ┆ 39           │\n",
       "│ AAAU   ┆ 2245730 ┆ 21.435 ┆ 21.355 ┆ 21.45   ┆ 21.29   ┆ 1710216000000000000 ┆ 2552         │\n",
       "│ AACG   ┆ 15825   ┆ 1.63   ┆ 1.59   ┆ 1.63    ┆ 1.53    ┆ 1710216000000000000 ┆ 164          │\n",
       "└────────┴─────────┴────────┴────────┴─────────┴─────────┴─────────────────────┴──────────────┘"
      ]
     },
     "execution_count": 8,
     "metadata": {},
     "output_type": "execute_result"
    }
   ],
   "source": [
    "# Turning to get realized volatility for an equity now\n",
    "\n",
    "stock_year_df_source = pl.read_parquet(glob.glob(os.path.join(\"test_data/stock_agg_year\", \"**\", \"*.parquet\"), recursive=True))\n",
    "\n",
    "stock_year_df_source.head()"
   ]
  },
  {
   "cell_type": "code",
   "execution_count": 9,
   "id": "eea0d78d",
   "metadata": {},
   "outputs": [],
   "source": [
    "stock_year_df = stock_year_df_source\n",
    "\n",
    "\n"
   ]
  }
 ],
 "metadata": {
  "kernelspec": {
   "display_name": ".venv (3.13.5)",
   "language": "python",
   "name": "python3"
  },
  "language_info": {
   "codemirror_mode": {
    "name": "ipython",
    "version": 3
   },
   "file_extension": ".py",
   "mimetype": "text/x-python",
   "name": "python",
   "nbconvert_exporter": "python",
   "pygments_lexer": "ipython3",
   "version": "3.13.5"
  }
 },
 "nbformat": 4,
 "nbformat_minor": 5
}
