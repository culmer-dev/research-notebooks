{
 "cells": [
  {
   "cell_type": "code",
   "execution_count": 122,
   "id": "e340bfbf",
   "metadata": {},
   "outputs": [
    {
     "name": "stdout",
     "output_type": "stream",
     "text": [
      "Requirement already satisfied: polars in /Users/colinulmer/code/data-repo/.venv/lib/python3.13/site-packages (1.32.3)\n",
      "Requirement already satisfied: seaborn in /Users/colinulmer/code/data-repo/.venv/lib/python3.13/site-packages (0.13.2)\n",
      "Requirement already satisfied: numpy!=1.24.0,>=1.20 in /Users/colinulmer/code/data-repo/.venv/lib/python3.13/site-packages (from seaborn) (2.3.2)\n",
      "Requirement already satisfied: pandas>=1.2 in /Users/colinulmer/code/data-repo/.venv/lib/python3.13/site-packages (from seaborn) (2.3.1)\n",
      "Requirement already satisfied: matplotlib!=3.6.1,>=3.4 in /Users/colinulmer/code/data-repo/.venv/lib/python3.13/site-packages (from seaborn) (3.10.5)\n",
      "Requirement already satisfied: contourpy>=1.0.1 in /Users/colinulmer/code/data-repo/.venv/lib/python3.13/site-packages (from matplotlib!=3.6.1,>=3.4->seaborn) (1.3.3)\n",
      "Requirement already satisfied: cycler>=0.10 in /Users/colinulmer/code/data-repo/.venv/lib/python3.13/site-packages (from matplotlib!=3.6.1,>=3.4->seaborn) (0.12.1)\n",
      "Requirement already satisfied: fonttools>=4.22.0 in /Users/colinulmer/code/data-repo/.venv/lib/python3.13/site-packages (from matplotlib!=3.6.1,>=3.4->seaborn) (4.59.1)\n",
      "Requirement already satisfied: kiwisolver>=1.3.1 in /Users/colinulmer/code/data-repo/.venv/lib/python3.13/site-packages (from matplotlib!=3.6.1,>=3.4->seaborn) (1.4.9)\n",
      "Requirement already satisfied: packaging>=20.0 in /Users/colinulmer/code/data-repo/.venv/lib/python3.13/site-packages (from matplotlib!=3.6.1,>=3.4->seaborn) (25.0)\n",
      "Requirement already satisfied: pillow>=8 in /Users/colinulmer/code/data-repo/.venv/lib/python3.13/site-packages (from matplotlib!=3.6.1,>=3.4->seaborn) (11.3.0)\n",
      "Requirement already satisfied: pyparsing>=2.3.1 in /Users/colinulmer/code/data-repo/.venv/lib/python3.13/site-packages (from matplotlib!=3.6.1,>=3.4->seaborn) (3.2.3)\n",
      "Requirement already satisfied: python-dateutil>=2.7 in /Users/colinulmer/code/data-repo/.venv/lib/python3.13/site-packages (from matplotlib!=3.6.1,>=3.4->seaborn) (2.9.0.post0)\n",
      "Requirement already satisfied: pytz>=2020.1 in /Users/colinulmer/code/data-repo/.venv/lib/python3.13/site-packages (from pandas>=1.2->seaborn) (2025.2)\n",
      "Requirement already satisfied: tzdata>=2022.7 in /Users/colinulmer/code/data-repo/.venv/lib/python3.13/site-packages (from pandas>=1.2->seaborn) (2025.2)\n",
      "Requirement already satisfied: six>=1.5 in /Users/colinulmer/code/data-repo/.venv/lib/python3.13/site-packages (from python-dateutil>=2.7->matplotlib!=3.6.1,>=3.4->seaborn) (1.17.0)\n",
      "\n",
      "\u001b[1m[\u001b[0m\u001b[34;49mnotice\u001b[0m\u001b[1;39;49m]\u001b[0m\u001b[39;49m A new release of pip is available: \u001b[0m\u001b[31;49m25.1.1\u001b[0m\u001b[39;49m -> \u001b[0m\u001b[32;49m25.2\u001b[0m\n",
      "\u001b[1m[\u001b[0m\u001b[34;49mnotice\u001b[0m\u001b[1;39;49m]\u001b[0m\u001b[39;49m To update, run: \u001b[0m\u001b[32;49mpip install --upgrade pip\u001b[0m\n",
      "Note: you may need to restart the kernel to use updated packages.\n"
     ]
    }
   ],
   "source": [
    "%pip install polars seaborn"
   ]
  },
  {
   "cell_type": "code",
   "execution_count": 123,
   "id": "9c85f2b3",
   "metadata": {},
   "outputs": [
    {
     "name": "stdout",
     "output_type": "stream",
     "text": [
      "shape: (5, 8)\n",
      "┌────────────────────┬────────┬───────┬───────┬───────┬───────┬─────────────────────┬──────────────┐\n",
      "│ ticker             ┆ volume ┆ open  ┆ close ┆ high  ┆ low   ┆ window_start        ┆ transactions │\n",
      "│ ---                ┆ ---    ┆ ---   ┆ ---   ┆ ---   ┆ ---   ┆ ---                 ┆ ---          │\n",
      "│ str                ┆ i64    ┆ f64   ┆ f64   ┆ f64   ┆ f64   ┆ i64                 ┆ i64          │\n",
      "╞════════════════════╪════════╪═══════╪═══════╪═══════╪═══════╪═════════════════════╪══════════════╡\n",
      "│ O:A240621C00110000 ┆ 4      ┆ 22.11 ┆ 22.11 ┆ 22.11 ┆ 22.11 ┆ 1718115060000000000 ┆ 1            │\n",
      "│ O:A240621C00135000 ┆ 1      ┆ 1.0   ┆ 1.0   ┆ 1.0   ┆ 1.0   ┆ 1718112600000000000 ┆ 1            │\n",
      "│ O:A240621C00135000 ┆ 1      ┆ 0.85  ┆ 0.85  ┆ 0.85  ┆ 0.85  ┆ 1718113140000000000 ┆ 1            │\n",
      "│ O:A240621C00135000 ┆ 1      ┆ 0.87  ┆ 0.87  ┆ 0.87  ┆ 0.87  ┆ 1718113200000000000 ┆ 1            │\n",
      "│ O:A240621C00135000 ┆ 1      ┆ 0.85  ┆ 0.85  ┆ 0.85  ┆ 0.85  ┆ 1718115060000000000 ┆ 1            │\n",
      "└────────────────────┴────────┴───────┴───────┴───────┴───────┴─────────────────────┴──────────────┘\n"
     ]
    }
   ],
   "source": [
    "import polars as pl\n",
    "\n",
    "option_df = pl.read_parquet(\"test_data/options_minute_aggs.parquet\")\n",
    "\n",
    "print(option_df.head())"
   ]
  },
  {
   "cell_type": "code",
   "execution_count": 124,
   "id": "c57ccd0f",
   "metadata": {},
   "outputs": [
    {
     "data": {
      "text/html": [
       "<div><style>\n",
       ".dataframe > thead > tr,\n",
       ".dataframe > tbody > tr {\n",
       "  text-align: right;\n",
       "  white-space: pre-wrap;\n",
       "}\n",
       "</style>\n",
       "<small>shape: (5, 4)</small><table border=\"1\" class=\"dataframe\"><thead><tr><th>option_ticker</th><th>volume</th><th>option_price</th><th>timestamp</th></tr><tr><td>str</td><td>i64</td><td>f64</td><td>i64</td></tr></thead><tbody><tr><td>&quot;O:A240621C00110000&quot;</td><td>4</td><td>22.11</td><td>1718115060000000000</td></tr><tr><td>&quot;O:A240621C00135000&quot;</td><td>1</td><td>1.0</td><td>1718112600000000000</td></tr><tr><td>&quot;O:A240621C00135000&quot;</td><td>1</td><td>0.85</td><td>1718113140000000000</td></tr><tr><td>&quot;O:A240621C00135000&quot;</td><td>1</td><td>0.87</td><td>1718113200000000000</td></tr><tr><td>&quot;O:A240621C00135000&quot;</td><td>1</td><td>0.85</td><td>1718115060000000000</td></tr></tbody></table></div>"
      ],
      "text/plain": [
       "shape: (5, 4)\n",
       "┌────────────────────┬────────┬──────────────┬─────────────────────┐\n",
       "│ option_ticker      ┆ volume ┆ option_price ┆ timestamp           │\n",
       "│ ---                ┆ ---    ┆ ---          ┆ ---                 │\n",
       "│ str                ┆ i64    ┆ f64          ┆ i64                 │\n",
       "╞════════════════════╪════════╪══════════════╪═════════════════════╡\n",
       "│ O:A240621C00110000 ┆ 4      ┆ 22.11        ┆ 1718115060000000000 │\n",
       "│ O:A240621C00135000 ┆ 1      ┆ 1.0          ┆ 1718112600000000000 │\n",
       "│ O:A240621C00135000 ┆ 1      ┆ 0.85         ┆ 1718113140000000000 │\n",
       "│ O:A240621C00135000 ┆ 1      ┆ 0.87         ┆ 1718113200000000000 │\n",
       "│ O:A240621C00135000 ┆ 1      ┆ 0.85         ┆ 1718115060000000000 │\n",
       "└────────────────────┴────────┴──────────────┴─────────────────────┘"
      ]
     },
     "execution_count": 124,
     "metadata": {},
     "output_type": "execute_result"
    }
   ],
   "source": [
    "option_df = option_df.select('ticker', 'volume', 'open', 'window_start')\n",
    "option_df = option_df.rename({'ticker': 'option_ticker', 'open': 'option_price', 'window_start': 'timestamp'})\n",
    "option_df.head()"
   ]
  },
  {
   "cell_type": "code",
   "execution_count": 125,
   "id": "88f0c60a",
   "metadata": {},
   "outputs": [
    {
     "data": {
      "text/html": [
       "<div><style>\n",
       ".dataframe > thead > tr,\n",
       ".dataframe > tbody > tr {\n",
       "  text-align: right;\n",
       "  white-space: pre-wrap;\n",
       "}\n",
       "</style>\n",
       "<small>shape: (5, 8)</small><table border=\"1\" class=\"dataframe\"><thead><tr><th>option_ticker</th><th>volume</th><th>option_price</th><th>timestamp</th><th>underlying_ticker</th><th>expiration_date</th><th>option_type</th><th>strike_price</th></tr><tr><td>str</td><td>i64</td><td>f64</td><td>i64</td><td>str</td><td>str</td><td>str</td><td>str</td></tr></thead><tbody><tr><td>&quot;O:A240621C00110000&quot;</td><td>4</td><td>22.11</td><td>1718115060000000000</td><td>&quot;A&quot;</td><td>&quot;240621&quot;</td><td>&quot;C&quot;</td><td>&quot;00110000&quot;</td></tr><tr><td>&quot;O:A240621C00135000&quot;</td><td>1</td><td>1.0</td><td>1718112600000000000</td><td>&quot;A&quot;</td><td>&quot;240621&quot;</td><td>&quot;C&quot;</td><td>&quot;00135000&quot;</td></tr><tr><td>&quot;O:A240621C00135000&quot;</td><td>1</td><td>0.85</td><td>1718113140000000000</td><td>&quot;A&quot;</td><td>&quot;240621&quot;</td><td>&quot;C&quot;</td><td>&quot;00135000&quot;</td></tr><tr><td>&quot;O:A240621C00135000&quot;</td><td>1</td><td>0.87</td><td>1718113200000000000</td><td>&quot;A&quot;</td><td>&quot;240621&quot;</td><td>&quot;C&quot;</td><td>&quot;00135000&quot;</td></tr><tr><td>&quot;O:A240621C00135000&quot;</td><td>1</td><td>0.85</td><td>1718115060000000000</td><td>&quot;A&quot;</td><td>&quot;240621&quot;</td><td>&quot;C&quot;</td><td>&quot;00135000&quot;</td></tr></tbody></table></div>"
      ],
      "text/plain": [
       "shape: (5, 8)\n",
       "┌────────────┬────────┬────────────┬────────────┬────────────┬────────────┬────────────┬───────────┐\n",
       "│ option_tic ┆ volume ┆ option_pri ┆ timestamp  ┆ underlying ┆ expiration ┆ option_typ ┆ strike_pr │\n",
       "│ ker        ┆ ---    ┆ ce         ┆ ---        ┆ _ticker    ┆ _date      ┆ e          ┆ ice       │\n",
       "│ ---        ┆ i64    ┆ ---        ┆ i64        ┆ ---        ┆ ---        ┆ ---        ┆ ---       │\n",
       "│ str        ┆        ┆ f64        ┆            ┆ str        ┆ str        ┆ str        ┆ str       │\n",
       "╞════════════╪════════╪════════════╪════════════╪════════════╪════════════╪════════════╪═══════════╡\n",
       "│ O:A240621C ┆ 4      ┆ 22.11      ┆ 1718115060 ┆ A          ┆ 240621     ┆ C          ┆ 00110000  │\n",
       "│ 00110000   ┆        ┆            ┆ 000000000  ┆            ┆            ┆            ┆           │\n",
       "│ O:A240621C ┆ 1      ┆ 1.0        ┆ 1718112600 ┆ A          ┆ 240621     ┆ C          ┆ 00135000  │\n",
       "│ 00135000   ┆        ┆            ┆ 000000000  ┆            ┆            ┆            ┆           │\n",
       "│ O:A240621C ┆ 1      ┆ 0.85       ┆ 1718113140 ┆ A          ┆ 240621     ┆ C          ┆ 00135000  │\n",
       "│ 00135000   ┆        ┆            ┆ 000000000  ┆            ┆            ┆            ┆           │\n",
       "│ O:A240621C ┆ 1      ┆ 0.87       ┆ 1718113200 ┆ A          ┆ 240621     ┆ C          ┆ 00135000  │\n",
       "│ 00135000   ┆        ┆            ┆ 000000000  ┆            ┆            ┆            ┆           │\n",
       "│ O:A240621C ┆ 1      ┆ 0.85       ┆ 1718115060 ┆ A          ┆ 240621     ┆ C          ┆ 00135000  │\n",
       "│ 00135000   ┆        ┆            ┆ 000000000  ┆            ┆            ┆            ┆           │\n",
       "└────────────┴────────┴────────────┴────────────┴────────────┴────────────┴────────────┴───────────┘"
      ]
     },
     "execution_count": 125,
     "metadata": {},
     "output_type": "execute_result"
    }
   ],
   "source": [
    "# Parse Polygon option tickers to useful columns\n",
    "regex_pattern = r\"O:([A-Za-z]+)([0-9]+)([PC])([0-9]+)\"\n",
    "option_df = option_df.with_columns(\n",
    "    pl.col('option_ticker').str.extract(regex_pattern, 1).alias('underlying_ticker'),\n",
    "    pl.col('option_ticker').str.extract(regex_pattern, 2).alias('expiration_date'),\n",
    "    pl.col('option_ticker').str.extract(regex_pattern, 3).alias('option_type'),\n",
    "    pl.col('option_ticker').str.extract(regex_pattern, 4).alias('strike_price'),\n",
    ")\n",
    "option_df.head()"
   ]
  },
  {
   "cell_type": "code",
   "execution_count": 126,
   "id": "5c6d3cb0",
   "metadata": {},
   "outputs": [
    {
     "data": {
      "text/html": [
       "<div><style>\n",
       ".dataframe > thead > tr,\n",
       ".dataframe > tbody > tr {\n",
       "  text-align: right;\n",
       "  white-space: pre-wrap;\n",
       "}\n",
       "</style>\n",
       "<small>shape: (5, 8)</small><table border=\"1\" class=\"dataframe\"><thead><tr><th>option_ticker</th><th>volume</th><th>option_price</th><th>timestamp</th><th>underlying_ticker</th><th>expiration_date</th><th>option_type</th><th>strike_price</th></tr><tr><td>str</td><td>i64</td><td>f64</td><td>i64</td><td>str</td><td>str</td><td>str</td><td>str</td></tr></thead><tbody><tr><td>&quot;O:A240621C00110000&quot;</td><td>4</td><td>22.11</td><td>1718115060000000000</td><td>&quot;A&quot;</td><td>&quot;240621&quot;</td><td>&quot;C&quot;</td><td>&quot;00110000&quot;</td></tr><tr><td>&quot;O:A240621C00135000&quot;</td><td>1</td><td>1.0</td><td>1718112600000000000</td><td>&quot;A&quot;</td><td>&quot;240621&quot;</td><td>&quot;C&quot;</td><td>&quot;00135000&quot;</td></tr><tr><td>&quot;O:A240621C00135000&quot;</td><td>1</td><td>0.85</td><td>1718113140000000000</td><td>&quot;A&quot;</td><td>&quot;240621&quot;</td><td>&quot;C&quot;</td><td>&quot;00135000&quot;</td></tr><tr><td>&quot;O:A240621C00135000&quot;</td><td>1</td><td>0.87</td><td>1718113200000000000</td><td>&quot;A&quot;</td><td>&quot;240621&quot;</td><td>&quot;C&quot;</td><td>&quot;00135000&quot;</td></tr><tr><td>&quot;O:A240621C00135000&quot;</td><td>1</td><td>0.85</td><td>1718115060000000000</td><td>&quot;A&quot;</td><td>&quot;240621&quot;</td><td>&quot;C&quot;</td><td>&quot;00135000&quot;</td></tr></tbody></table></div>"
      ],
      "text/plain": [
       "shape: (5, 8)\n",
       "┌────────────┬────────┬────────────┬────────────┬────────────┬────────────┬────────────┬───────────┐\n",
       "│ option_tic ┆ volume ┆ option_pri ┆ timestamp  ┆ underlying ┆ expiration ┆ option_typ ┆ strike_pr │\n",
       "│ ker        ┆ ---    ┆ ce         ┆ ---        ┆ _ticker    ┆ _date      ┆ e          ┆ ice       │\n",
       "│ ---        ┆ i64    ┆ ---        ┆ i64        ┆ ---        ┆ ---        ┆ ---        ┆ ---       │\n",
       "│ str        ┆        ┆ f64        ┆            ┆ str        ┆ str        ┆ str        ┆ str       │\n",
       "╞════════════╪════════╪════════════╪════════════╪════════════╪════════════╪════════════╪═══════════╡\n",
       "│ O:A240621C ┆ 4      ┆ 22.11      ┆ 1718115060 ┆ A          ┆ 240621     ┆ C          ┆ 00110000  │\n",
       "│ 00110000   ┆        ┆            ┆ 000000000  ┆            ┆            ┆            ┆           │\n",
       "│ O:A240621C ┆ 1      ┆ 1.0        ┆ 1718112600 ┆ A          ┆ 240621     ┆ C          ┆ 00135000  │\n",
       "│ 00135000   ┆        ┆            ┆ 000000000  ┆            ┆            ┆            ┆           │\n",
       "│ O:A240621C ┆ 1      ┆ 0.85       ┆ 1718113140 ┆ A          ┆ 240621     ┆ C          ┆ 00135000  │\n",
       "│ 00135000   ┆        ┆            ┆ 000000000  ┆            ┆            ┆            ┆           │\n",
       "│ O:A240621C ┆ 1      ┆ 0.87       ┆ 1718113200 ┆ A          ┆ 240621     ┆ C          ┆ 00135000  │\n",
       "│ 00135000   ┆        ┆            ┆ 000000000  ┆            ┆            ┆            ┆           │\n",
       "│ O:A240621C ┆ 1      ┆ 0.85       ┆ 1718115060 ┆ A          ┆ 240621     ┆ C          ┆ 00135000  │\n",
       "│ 00135000   ┆        ┆            ┆ 000000000  ┆            ┆            ┆            ┆           │\n",
       "└────────────┴────────┴────────────┴────────────┴────────────┴────────────┴────────────┴───────────┘"
      ]
     },
     "execution_count": 126,
     "metadata": {},
     "output_type": "execute_result"
    }
   ],
   "source": [
    "# Expiration date can sometimes include an extra int at the front (because Polygon idk) so we need to filter those out and transform to proper type\n",
    "option_df = option_df.with_columns(\n",
    "    pl.when(pl.col('expiration_date').str.len_chars() == 7)\n",
    "    .then(pl.col(\"expiration_date\").str.slice(1))\n",
    "    .otherwise(pl.col('expiration_date'))\n",
    "    .alias('expiration_date')\n",
    ")\n",
    "\n",
    "option_df.head()"
   ]
  },
  {
   "cell_type": "code",
   "execution_count": 127,
   "id": "f80b1402",
   "metadata": {},
   "outputs": [
    {
     "data": {
      "text/html": [
       "<div><style>\n",
       ".dataframe > thead > tr,\n",
       ".dataframe > tbody > tr {\n",
       "  text-align: right;\n",
       "  white-space: pre-wrap;\n",
       "}\n",
       "</style>\n",
       "<small>shape: (5, 8)</small><table border=\"1\" class=\"dataframe\"><thead><tr><th>option_ticker</th><th>volume</th><th>option_price</th><th>timestamp</th><th>underlying_ticker</th><th>expiration_date</th><th>option_type</th><th>strike_price</th></tr><tr><td>str</td><td>i64</td><td>f64</td><td>i64</td><td>str</td><td>str</td><td>str</td><td>str</td></tr></thead><tbody><tr><td>&quot;O:A240621C00110000&quot;</td><td>4</td><td>22.11</td><td>1718115060000000000</td><td>&quot;A&quot;</td><td>&quot;2024-06-21&quot;</td><td>&quot;C&quot;</td><td>&quot;00110000&quot;</td></tr><tr><td>&quot;O:A240621C00135000&quot;</td><td>1</td><td>1.0</td><td>1718112600000000000</td><td>&quot;A&quot;</td><td>&quot;2024-06-21&quot;</td><td>&quot;C&quot;</td><td>&quot;00135000&quot;</td></tr><tr><td>&quot;O:A240621C00135000&quot;</td><td>1</td><td>0.85</td><td>1718113140000000000</td><td>&quot;A&quot;</td><td>&quot;2024-06-21&quot;</td><td>&quot;C&quot;</td><td>&quot;00135000&quot;</td></tr><tr><td>&quot;O:A240621C00135000&quot;</td><td>1</td><td>0.87</td><td>1718113200000000000</td><td>&quot;A&quot;</td><td>&quot;2024-06-21&quot;</td><td>&quot;C&quot;</td><td>&quot;00135000&quot;</td></tr><tr><td>&quot;O:A240621C00135000&quot;</td><td>1</td><td>0.85</td><td>1718115060000000000</td><td>&quot;A&quot;</td><td>&quot;2024-06-21&quot;</td><td>&quot;C&quot;</td><td>&quot;00135000&quot;</td></tr></tbody></table></div>"
      ],
      "text/plain": [
       "shape: (5, 8)\n",
       "┌────────────┬────────┬────────────┬────────────┬────────────┬────────────┬────────────┬───────────┐\n",
       "│ option_tic ┆ volume ┆ option_pri ┆ timestamp  ┆ underlying ┆ expiration ┆ option_typ ┆ strike_pr │\n",
       "│ ker        ┆ ---    ┆ ce         ┆ ---        ┆ _ticker    ┆ _date      ┆ e          ┆ ice       │\n",
       "│ ---        ┆ i64    ┆ ---        ┆ i64        ┆ ---        ┆ ---        ┆ ---        ┆ ---       │\n",
       "│ str        ┆        ┆ f64        ┆            ┆ str        ┆ str        ┆ str        ┆ str       │\n",
       "╞════════════╪════════╪════════════╪════════════╪════════════╪════════════╪════════════╪═══════════╡\n",
       "│ O:A240621C ┆ 4      ┆ 22.11      ┆ 1718115060 ┆ A          ┆ 2024-06-21 ┆ C          ┆ 00110000  │\n",
       "│ 00110000   ┆        ┆            ┆ 000000000  ┆            ┆            ┆            ┆           │\n",
       "│ O:A240621C ┆ 1      ┆ 1.0        ┆ 1718112600 ┆ A          ┆ 2024-06-21 ┆ C          ┆ 00135000  │\n",
       "│ 00135000   ┆        ┆            ┆ 000000000  ┆            ┆            ┆            ┆           │\n",
       "│ O:A240621C ┆ 1      ┆ 0.85       ┆ 1718113140 ┆ A          ┆ 2024-06-21 ┆ C          ┆ 00135000  │\n",
       "│ 00135000   ┆        ┆            ┆ 000000000  ┆            ┆            ┆            ┆           │\n",
       "│ O:A240621C ┆ 1      ┆ 0.87       ┆ 1718113200 ┆ A          ┆ 2024-06-21 ┆ C          ┆ 00135000  │\n",
       "│ 00135000   ┆        ┆            ┆ 000000000  ┆            ┆            ┆            ┆           │\n",
       "│ O:A240621C ┆ 1      ┆ 0.85       ┆ 1718115060 ┆ A          ┆ 2024-06-21 ┆ C          ┆ 00135000  │\n",
       "│ 00135000   ┆        ┆            ┆ 000000000  ┆            ┆            ┆            ┆           │\n",
       "└────────────┴────────┴────────────┴────────────┴────────────┴────────────┴────────────┴───────────┘"
      ]
     },
     "execution_count": 127,
     "metadata": {},
     "output_type": "execute_result"
    }
   ],
   "source": [
    "# Need to expand the expiration_date to be able to transform to datetime\n",
    "option_df = option_df.with_columns(\n",
    "    pl.col(\"expiration_date\").map_elements(lambda date_str: f\"20{date_str[0:2]}-{date_str[2:4]}-{date_str[4:]}\", return_dtype=pl.self_dtype()).alias(\"expiration_date\")\n",
    ")\n",
    "\n",
    "option_df.head()   "
   ]
  },
  {
   "cell_type": "code",
   "execution_count": 128,
   "id": "266d04f3",
   "metadata": {},
   "outputs": [
    {
     "data": {
      "text/html": [
       "<div><style>\n",
       ".dataframe > thead > tr,\n",
       ".dataframe > tbody > tr {\n",
       "  text-align: right;\n",
       "  white-space: pre-wrap;\n",
       "}\n",
       "</style>\n",
       "<small>shape: (5, 8)</small><table border=\"1\" class=\"dataframe\"><thead><tr><th>option_ticker</th><th>volume</th><th>option_price</th><th>timestamp</th><th>underlying_ticker</th><th>expiration_date</th><th>option_type</th><th>strike_price</th></tr><tr><td>str</td><td>i64</td><td>f64</td><td>i64</td><td>str</td><td>datetime[ns]</td><td>str</td><td>str</td></tr></thead><tbody><tr><td>&quot;O:A240621C00110000&quot;</td><td>4</td><td>22.11</td><td>1718115060000000000</td><td>&quot;A&quot;</td><td>2024-06-21 00:00:00</td><td>&quot;C&quot;</td><td>&quot;00110000&quot;</td></tr><tr><td>&quot;O:A240621C00135000&quot;</td><td>1</td><td>1.0</td><td>1718112600000000000</td><td>&quot;A&quot;</td><td>2024-06-21 00:00:00</td><td>&quot;C&quot;</td><td>&quot;00135000&quot;</td></tr><tr><td>&quot;O:A240621C00135000&quot;</td><td>1</td><td>0.85</td><td>1718113140000000000</td><td>&quot;A&quot;</td><td>2024-06-21 00:00:00</td><td>&quot;C&quot;</td><td>&quot;00135000&quot;</td></tr><tr><td>&quot;O:A240621C00135000&quot;</td><td>1</td><td>0.87</td><td>1718113200000000000</td><td>&quot;A&quot;</td><td>2024-06-21 00:00:00</td><td>&quot;C&quot;</td><td>&quot;00135000&quot;</td></tr><tr><td>&quot;O:A240621C00135000&quot;</td><td>1</td><td>0.85</td><td>1718115060000000000</td><td>&quot;A&quot;</td><td>2024-06-21 00:00:00</td><td>&quot;C&quot;</td><td>&quot;00135000&quot;</td></tr></tbody></table></div>"
      ],
      "text/plain": [
       "shape: (5, 8)\n",
       "┌────────────┬────────┬────────────┬────────────┬────────────┬────────────┬────────────┬───────────┐\n",
       "│ option_tic ┆ volume ┆ option_pri ┆ timestamp  ┆ underlying ┆ expiration ┆ option_typ ┆ strike_pr │\n",
       "│ ker        ┆ ---    ┆ ce         ┆ ---        ┆ _ticker    ┆ _date      ┆ e          ┆ ice       │\n",
       "│ ---        ┆ i64    ┆ ---        ┆ i64        ┆ ---        ┆ ---        ┆ ---        ┆ ---       │\n",
       "│ str        ┆        ┆ f64        ┆            ┆ str        ┆ datetime[n ┆ str        ┆ str       │\n",
       "│            ┆        ┆            ┆            ┆            ┆ s]         ┆            ┆           │\n",
       "╞════════════╪════════╪════════════╪════════════╪════════════╪════════════╪════════════╪═══════════╡\n",
       "│ O:A240621C ┆ 4      ┆ 22.11      ┆ 1718115060 ┆ A          ┆ 2024-06-21 ┆ C          ┆ 00110000  │\n",
       "│ 00110000   ┆        ┆            ┆ 000000000  ┆            ┆ 00:00:00   ┆            ┆           │\n",
       "│ O:A240621C ┆ 1      ┆ 1.0        ┆ 1718112600 ┆ A          ┆ 2024-06-21 ┆ C          ┆ 00135000  │\n",
       "│ 00135000   ┆        ┆            ┆ 000000000  ┆            ┆ 00:00:00   ┆            ┆           │\n",
       "│ O:A240621C ┆ 1      ┆ 0.85       ┆ 1718113140 ┆ A          ┆ 2024-06-21 ┆ C          ┆ 00135000  │\n",
       "│ 00135000   ┆        ┆            ┆ 000000000  ┆            ┆ 00:00:00   ┆            ┆           │\n",
       "│ O:A240621C ┆ 1      ┆ 0.87       ┆ 1718113200 ┆ A          ┆ 2024-06-21 ┆ C          ┆ 00135000  │\n",
       "│ 00135000   ┆        ┆            ┆ 000000000  ┆            ┆ 00:00:00   ┆            ┆           │\n",
       "│ O:A240621C ┆ 1      ┆ 0.85       ┆ 1718115060 ┆ A          ┆ 2024-06-21 ┆ C          ┆ 00135000  │\n",
       "│ 00135000   ┆        ┆            ┆ 000000000  ┆            ┆ 00:00:00   ┆            ┆           │\n",
       "└────────────┴────────┴────────────┴────────────┴────────────┴────────────┴────────────┴───────────┘"
      ]
     },
     "execution_count": 128,
     "metadata": {},
     "output_type": "execute_result"
    }
   ],
   "source": [
    "# Convert the expiration date to date to make it easier to work with\n",
    "option_df = option_df.with_columns(\n",
    "    pl.col(\"expiration_date\").str.to_datetime(time_unit=\"ns\")\n",
    ")\n",
    "\n",
    "option_df.head()  "
   ]
  },
  {
   "cell_type": "code",
   "execution_count": 129,
   "id": "93b00122",
   "metadata": {},
   "outputs": [
    {
     "data": {
      "text/html": [
       "<div><style>\n",
       ".dataframe > thead > tr,\n",
       ".dataframe > tbody > tr {\n",
       "  text-align: right;\n",
       "  white-space: pre-wrap;\n",
       "}\n",
       "</style>\n",
       "<small>shape: (5, 8)</small><table border=\"1\" class=\"dataframe\"><thead><tr><th>option_ticker</th><th>volume</th><th>option_price</th><th>timestamp</th><th>underlying_ticker</th><th>expiration_date</th><th>option_type</th><th>strike_price</th></tr><tr><td>str</td><td>i64</td><td>decimal[*,2]</td><td>i64</td><td>str</td><td>datetime[ns]</td><td>str</td><td>str</td></tr></thead><tbody><tr><td>&quot;O:A240621C00110000&quot;</td><td>4</td><td>22.11</td><td>1718115060000000000</td><td>&quot;A&quot;</td><td>2024-06-21 00:00:00</td><td>&quot;C&quot;</td><td>&quot;00110000&quot;</td></tr><tr><td>&quot;O:A240621C00135000&quot;</td><td>1</td><td>1.00</td><td>1718112600000000000</td><td>&quot;A&quot;</td><td>2024-06-21 00:00:00</td><td>&quot;C&quot;</td><td>&quot;00135000&quot;</td></tr><tr><td>&quot;O:A240621C00135000&quot;</td><td>1</td><td>0.85</td><td>1718113140000000000</td><td>&quot;A&quot;</td><td>2024-06-21 00:00:00</td><td>&quot;C&quot;</td><td>&quot;00135000&quot;</td></tr><tr><td>&quot;O:A240621C00135000&quot;</td><td>1</td><td>0.87</td><td>1718113200000000000</td><td>&quot;A&quot;</td><td>2024-06-21 00:00:00</td><td>&quot;C&quot;</td><td>&quot;00135000&quot;</td></tr><tr><td>&quot;O:A240621C00135000&quot;</td><td>1</td><td>0.85</td><td>1718115060000000000</td><td>&quot;A&quot;</td><td>2024-06-21 00:00:00</td><td>&quot;C&quot;</td><td>&quot;00135000&quot;</td></tr></tbody></table></div>"
      ],
      "text/plain": [
       "shape: (5, 8)\n",
       "┌────────────┬────────┬────────────┬────────────┬────────────┬────────────┬────────────┬───────────┐\n",
       "│ option_tic ┆ volume ┆ option_pri ┆ timestamp  ┆ underlying ┆ expiration ┆ option_typ ┆ strike_pr │\n",
       "│ ker        ┆ ---    ┆ ce         ┆ ---        ┆ _ticker    ┆ _date      ┆ e          ┆ ice       │\n",
       "│ ---        ┆ i64    ┆ ---        ┆ i64        ┆ ---        ┆ ---        ┆ ---        ┆ ---       │\n",
       "│ str        ┆        ┆ decimal[*, ┆            ┆ str        ┆ datetime[n ┆ str        ┆ str       │\n",
       "│            ┆        ┆ 2]         ┆            ┆            ┆ s]         ┆            ┆           │\n",
       "╞════════════╪════════╪════════════╪════════════╪════════════╪════════════╪════════════╪═══════════╡\n",
       "│ O:A240621C ┆ 4      ┆ 22.11      ┆ 1718115060 ┆ A          ┆ 2024-06-21 ┆ C          ┆ 00110000  │\n",
       "│ 00110000   ┆        ┆            ┆ 000000000  ┆            ┆ 00:00:00   ┆            ┆           │\n",
       "│ O:A240621C ┆ 1      ┆ 1.00       ┆ 1718112600 ┆ A          ┆ 2024-06-21 ┆ C          ┆ 00135000  │\n",
       "│ 00135000   ┆        ┆            ┆ 000000000  ┆            ┆ 00:00:00   ┆            ┆           │\n",
       "│ O:A240621C ┆ 1      ┆ 0.85       ┆ 1718113140 ┆ A          ┆ 2024-06-21 ┆ C          ┆ 00135000  │\n",
       "│ 00135000   ┆        ┆            ┆ 000000000  ┆            ┆ 00:00:00   ┆            ┆           │\n",
       "│ O:A240621C ┆ 1      ┆ 0.87       ┆ 1718113200 ┆ A          ┆ 2024-06-21 ┆ C          ┆ 00135000  │\n",
       "│ 00135000   ┆        ┆            ┆ 000000000  ┆            ┆ 00:00:00   ┆            ┆           │\n",
       "│ O:A240621C ┆ 1      ┆ 0.85       ┆ 1718115060 ┆ A          ┆ 2024-06-21 ┆ C          ┆ 00135000  │\n",
       "│ 00135000   ┆        ┆            ┆ 000000000  ┆            ┆ 00:00:00   ┆            ┆           │\n",
       "└────────────┴────────┴────────────┴────────────┴────────────┴────────────┴────────────┴───────────┘"
      ]
     },
     "execution_count": 129,
     "metadata": {},
     "output_type": "execute_result"
    }
   ],
   "source": [
    "# Convert option price to decimal\n",
    "option_df = option_df.with_columns(\n",
    "    pl.col('option_price').cast(pl.Decimal(scale=2)).alias('option_price')\n",
    ")\n",
    "\n",
    "option_df.head()"
   ]
  },
  {
   "cell_type": "code",
   "execution_count": 130,
   "id": "886b1b06",
   "metadata": {},
   "outputs": [
    {
     "data": {
      "text/html": [
       "<div><style>\n",
       ".dataframe > thead > tr,\n",
       ".dataframe > tbody > tr {\n",
       "  text-align: right;\n",
       "  white-space: pre-wrap;\n",
       "}\n",
       "</style>\n",
       "<small>shape: (5, 8)</small><table border=\"1\" class=\"dataframe\"><thead><tr><th>option_ticker</th><th>volume</th><th>option_price</th><th>timestamp</th><th>underlying_ticker</th><th>expiration_date</th><th>option_type</th><th>strike_price</th></tr><tr><td>str</td><td>i64</td><td>decimal[*,2]</td><td>datetime[ns]</td><td>str</td><td>datetime[ns]</td><td>str</td><td>str</td></tr></thead><tbody><tr><td>&quot;O:A240621C00110000&quot;</td><td>4</td><td>22.11</td><td>2024-06-11 14:11:00</td><td>&quot;A&quot;</td><td>2024-06-21 00:00:00</td><td>&quot;C&quot;</td><td>&quot;00110000&quot;</td></tr><tr><td>&quot;O:A240621C00135000&quot;</td><td>1</td><td>1.00</td><td>2024-06-11 13:30:00</td><td>&quot;A&quot;</td><td>2024-06-21 00:00:00</td><td>&quot;C&quot;</td><td>&quot;00135000&quot;</td></tr><tr><td>&quot;O:A240621C00135000&quot;</td><td>1</td><td>0.85</td><td>2024-06-11 13:39:00</td><td>&quot;A&quot;</td><td>2024-06-21 00:00:00</td><td>&quot;C&quot;</td><td>&quot;00135000&quot;</td></tr><tr><td>&quot;O:A240621C00135000&quot;</td><td>1</td><td>0.87</td><td>2024-06-11 13:40:00</td><td>&quot;A&quot;</td><td>2024-06-21 00:00:00</td><td>&quot;C&quot;</td><td>&quot;00135000&quot;</td></tr><tr><td>&quot;O:A240621C00135000&quot;</td><td>1</td><td>0.85</td><td>2024-06-11 14:11:00</td><td>&quot;A&quot;</td><td>2024-06-21 00:00:00</td><td>&quot;C&quot;</td><td>&quot;00135000&quot;</td></tr></tbody></table></div>"
      ],
      "text/plain": [
       "shape: (5, 8)\n",
       "┌────────────┬────────┬────────────┬────────────┬────────────┬────────────┬────────────┬───────────┐\n",
       "│ option_tic ┆ volume ┆ option_pri ┆ timestamp  ┆ underlying ┆ expiration ┆ option_typ ┆ strike_pr │\n",
       "│ ker        ┆ ---    ┆ ce         ┆ ---        ┆ _ticker    ┆ _date      ┆ e          ┆ ice       │\n",
       "│ ---        ┆ i64    ┆ ---        ┆ datetime[n ┆ ---        ┆ ---        ┆ ---        ┆ ---       │\n",
       "│ str        ┆        ┆ decimal[*, ┆ s]         ┆ str        ┆ datetime[n ┆ str        ┆ str       │\n",
       "│            ┆        ┆ 2]         ┆            ┆            ┆ s]         ┆            ┆           │\n",
       "╞════════════╪════════╪════════════╪════════════╪════════════╪════════════╪════════════╪═══════════╡\n",
       "│ O:A240621C ┆ 4      ┆ 22.11      ┆ 2024-06-11 ┆ A          ┆ 2024-06-21 ┆ C          ┆ 00110000  │\n",
       "│ 00110000   ┆        ┆            ┆ 14:11:00   ┆            ┆ 00:00:00   ┆            ┆           │\n",
       "│ O:A240621C ┆ 1      ┆ 1.00       ┆ 2024-06-11 ┆ A          ┆ 2024-06-21 ┆ C          ┆ 00135000  │\n",
       "│ 00135000   ┆        ┆            ┆ 13:30:00   ┆            ┆ 00:00:00   ┆            ┆           │\n",
       "│ O:A240621C ┆ 1      ┆ 0.85       ┆ 2024-06-11 ┆ A          ┆ 2024-06-21 ┆ C          ┆ 00135000  │\n",
       "│ 00135000   ┆        ┆            ┆ 13:39:00   ┆            ┆ 00:00:00   ┆            ┆           │\n",
       "│ O:A240621C ┆ 1      ┆ 0.87       ┆ 2024-06-11 ┆ A          ┆ 2024-06-21 ┆ C          ┆ 00135000  │\n",
       "│ 00135000   ┆        ┆            ┆ 13:40:00   ┆            ┆ 00:00:00   ┆            ┆           │\n",
       "│ O:A240621C ┆ 1      ┆ 0.85       ┆ 2024-06-11 ┆ A          ┆ 2024-06-21 ┆ C          ┆ 00135000  │\n",
       "│ 00135000   ┆        ┆            ┆ 14:11:00   ┆            ┆ 00:00:00   ┆            ┆           │\n",
       "└────────────┴────────┴────────────┴────────────┴────────────┴────────────┴────────────┴───────────┘"
      ]
     },
     "execution_count": 130,
     "metadata": {},
     "output_type": "execute_result"
    }
   ],
   "source": [
    "# Convert timestamp to datetime\n",
    "option_df = option_df.with_columns(\n",
    "    pl.from_epoch(\"timestamp\", time_unit=\"ns\").alias(\"timestamp\")\n",
    ")\n",
    "\n",
    "option_df.head() "
   ]
  },
  {
   "cell_type": "code",
   "execution_count": 131,
   "id": "d1b8432c",
   "metadata": {},
   "outputs": [
    {
     "data": {
      "text/html": [
       "<div><style>\n",
       ".dataframe > thead > tr,\n",
       ".dataframe > tbody > tr {\n",
       "  text-align: right;\n",
       "  white-space: pre-wrap;\n",
       "}\n",
       "</style>\n",
       "<small>shape: (5, 8)</small><table border=\"1\" class=\"dataframe\"><thead><tr><th>option_ticker</th><th>volume</th><th>option_price</th><th>timestamp</th><th>underlying_ticker</th><th>expiration_date</th><th>option_type</th><th>strike_price</th></tr><tr><td>str</td><td>i64</td><td>decimal[*,2]</td><td>datetime[ns]</td><td>str</td><td>datetime[ns]</td><td>str</td><td>decimal[*,2]</td></tr></thead><tbody><tr><td>&quot;O:A240621C00110000&quot;</td><td>4</td><td>22.11</td><td>2024-06-11 14:11:00</td><td>&quot;A&quot;</td><td>2024-06-21 00:00:00</td><td>&quot;C&quot;</td><td>110.00</td></tr><tr><td>&quot;O:A240621C00135000&quot;</td><td>1</td><td>1.00</td><td>2024-06-11 13:30:00</td><td>&quot;A&quot;</td><td>2024-06-21 00:00:00</td><td>&quot;C&quot;</td><td>135.00</td></tr><tr><td>&quot;O:A240621C00135000&quot;</td><td>1</td><td>0.85</td><td>2024-06-11 13:39:00</td><td>&quot;A&quot;</td><td>2024-06-21 00:00:00</td><td>&quot;C&quot;</td><td>135.00</td></tr><tr><td>&quot;O:A240621C00135000&quot;</td><td>1</td><td>0.87</td><td>2024-06-11 13:40:00</td><td>&quot;A&quot;</td><td>2024-06-21 00:00:00</td><td>&quot;C&quot;</td><td>135.00</td></tr><tr><td>&quot;O:A240621C00135000&quot;</td><td>1</td><td>0.85</td><td>2024-06-11 14:11:00</td><td>&quot;A&quot;</td><td>2024-06-21 00:00:00</td><td>&quot;C&quot;</td><td>135.00</td></tr></tbody></table></div>"
      ],
      "text/plain": [
       "shape: (5, 8)\n",
       "┌────────────┬────────┬────────────┬────────────┬────────────┬────────────┬────────────┬───────────┐\n",
       "│ option_tic ┆ volume ┆ option_pri ┆ timestamp  ┆ underlying ┆ expiration ┆ option_typ ┆ strike_pr │\n",
       "│ ker        ┆ ---    ┆ ce         ┆ ---        ┆ _ticker    ┆ _date      ┆ e          ┆ ice       │\n",
       "│ ---        ┆ i64    ┆ ---        ┆ datetime[n ┆ ---        ┆ ---        ┆ ---        ┆ ---       │\n",
       "│ str        ┆        ┆ decimal[*, ┆ s]         ┆ str        ┆ datetime[n ┆ str        ┆ decimal[* │\n",
       "│            ┆        ┆ 2]         ┆            ┆            ┆ s]         ┆            ┆ ,2]       │\n",
       "╞════════════╪════════╪════════════╪════════════╪════════════╪════════════╪════════════╪═══════════╡\n",
       "│ O:A240621C ┆ 4      ┆ 22.11      ┆ 2024-06-11 ┆ A          ┆ 2024-06-21 ┆ C          ┆ 110.00    │\n",
       "│ 00110000   ┆        ┆            ┆ 14:11:00   ┆            ┆ 00:00:00   ┆            ┆           │\n",
       "│ O:A240621C ┆ 1      ┆ 1.00       ┆ 2024-06-11 ┆ A          ┆ 2024-06-21 ┆ C          ┆ 135.00    │\n",
       "│ 00135000   ┆        ┆            ┆ 13:30:00   ┆            ┆ 00:00:00   ┆            ┆           │\n",
       "│ O:A240621C ┆ 1      ┆ 0.85       ┆ 2024-06-11 ┆ A          ┆ 2024-06-21 ┆ C          ┆ 135.00    │\n",
       "│ 00135000   ┆        ┆            ┆ 13:39:00   ┆            ┆ 00:00:00   ┆            ┆           │\n",
       "│ O:A240621C ┆ 1      ┆ 0.87       ┆ 2024-06-11 ┆ A          ┆ 2024-06-21 ┆ C          ┆ 135.00    │\n",
       "│ 00135000   ┆        ┆            ┆ 13:40:00   ┆            ┆ 00:00:00   ┆            ┆           │\n",
       "│ O:A240621C ┆ 1      ┆ 0.85       ┆ 2024-06-11 ┆ A          ┆ 2024-06-21 ┆ C          ┆ 135.00    │\n",
       "│ 00135000   ┆        ┆            ┆ 14:11:00   ┆            ┆ 00:00:00   ┆            ┆           │\n",
       "└────────────┴────────┴────────────┴────────────┴────────────┴────────────┴────────────┴───────────┘"
      ]
     },
     "execution_count": 131,
     "metadata": {},
     "output_type": "execute_result"
    }
   ],
   "source": [
    "# Convert strike_price to decimal\n",
    "option_df = option_df.with_columns(\n",
    "    pl.col(\"strike_price\").map_elements(lambda strike_price_str: float(strike_price_str) / 1000.0, return_dtype=pl.Float64).alias(\"strike_price\")\n",
    ")\n",
    "option_df = option_df.with_columns(\n",
    "    pl.col('strike_price').cast(pl.Decimal(scale=2)).alias('strike_price')\n",
    ")\n",
    "\n",
    "option_df.head()  "
   ]
  },
  {
   "cell_type": "code",
   "execution_count": 132,
   "id": "253a3efa",
   "metadata": {},
   "outputs": [
    {
     "data": {
      "text/html": [
       "<div><style>\n",
       ".dataframe > thead > tr,\n",
       ".dataframe > tbody > tr {\n",
       "  text-align: right;\n",
       "  white-space: pre-wrap;\n",
       "}\n",
       "</style>\n",
       "<small>shape: (5, 8)</small><table border=\"1\" class=\"dataframe\"><thead><tr><th>option_ticker</th><th>volume</th><th>option_price</th><th>timestamp</th><th>underlying_ticker</th><th>expiration_date</th><th>option_type</th><th>strike_price</th></tr><tr><td>str</td><td>i64</td><td>decimal[*,2]</td><td>datetime[ns]</td><td>str</td><td>datetime[ns]</td><td>enum</td><td>decimal[*,2]</td></tr></thead><tbody><tr><td>&quot;O:A240621C00110000&quot;</td><td>4</td><td>22.11</td><td>2024-06-11 14:11:00</td><td>&quot;A&quot;</td><td>2024-06-21 00:00:00</td><td>&quot;CALL&quot;</td><td>110.00</td></tr><tr><td>&quot;O:A240621C00135000&quot;</td><td>1</td><td>1.00</td><td>2024-06-11 13:30:00</td><td>&quot;A&quot;</td><td>2024-06-21 00:00:00</td><td>&quot;CALL&quot;</td><td>135.00</td></tr><tr><td>&quot;O:A240621C00135000&quot;</td><td>1</td><td>0.85</td><td>2024-06-11 13:39:00</td><td>&quot;A&quot;</td><td>2024-06-21 00:00:00</td><td>&quot;CALL&quot;</td><td>135.00</td></tr><tr><td>&quot;O:A240621C00135000&quot;</td><td>1</td><td>0.87</td><td>2024-06-11 13:40:00</td><td>&quot;A&quot;</td><td>2024-06-21 00:00:00</td><td>&quot;CALL&quot;</td><td>135.00</td></tr><tr><td>&quot;O:A240621C00135000&quot;</td><td>1</td><td>0.85</td><td>2024-06-11 14:11:00</td><td>&quot;A&quot;</td><td>2024-06-21 00:00:00</td><td>&quot;CALL&quot;</td><td>135.00</td></tr></tbody></table></div>"
      ],
      "text/plain": [
       "shape: (5, 8)\n",
       "┌────────────┬────────┬────────────┬────────────┬────────────┬────────────┬────────────┬───────────┐\n",
       "│ option_tic ┆ volume ┆ option_pri ┆ timestamp  ┆ underlying ┆ expiration ┆ option_typ ┆ strike_pr │\n",
       "│ ker        ┆ ---    ┆ ce         ┆ ---        ┆ _ticker    ┆ _date      ┆ e          ┆ ice       │\n",
       "│ ---        ┆ i64    ┆ ---        ┆ datetime[n ┆ ---        ┆ ---        ┆ ---        ┆ ---       │\n",
       "│ str        ┆        ┆ decimal[*, ┆ s]         ┆ str        ┆ datetime[n ┆ enum       ┆ decimal[* │\n",
       "│            ┆        ┆ 2]         ┆            ┆            ┆ s]         ┆            ┆ ,2]       │\n",
       "╞════════════╪════════╪════════════╪════════════╪════════════╪════════════╪════════════╪═══════════╡\n",
       "│ O:A240621C ┆ 4      ┆ 22.11      ┆ 2024-06-11 ┆ A          ┆ 2024-06-21 ┆ CALL       ┆ 110.00    │\n",
       "│ 00110000   ┆        ┆            ┆ 14:11:00   ┆            ┆ 00:00:00   ┆            ┆           │\n",
       "│ O:A240621C ┆ 1      ┆ 1.00       ┆ 2024-06-11 ┆ A          ┆ 2024-06-21 ┆ CALL       ┆ 135.00    │\n",
       "│ 00135000   ┆        ┆            ┆ 13:30:00   ┆            ┆ 00:00:00   ┆            ┆           │\n",
       "│ O:A240621C ┆ 1      ┆ 0.85       ┆ 2024-06-11 ┆ A          ┆ 2024-06-21 ┆ CALL       ┆ 135.00    │\n",
       "│ 00135000   ┆        ┆            ┆ 13:39:00   ┆            ┆ 00:00:00   ┆            ┆           │\n",
       "│ O:A240621C ┆ 1      ┆ 0.87       ┆ 2024-06-11 ┆ A          ┆ 2024-06-21 ┆ CALL       ┆ 135.00    │\n",
       "│ 00135000   ┆        ┆            ┆ 13:40:00   ┆            ┆ 00:00:00   ┆            ┆           │\n",
       "│ O:A240621C ┆ 1      ┆ 0.85       ┆ 2024-06-11 ┆ A          ┆ 2024-06-21 ┆ CALL       ┆ 135.00    │\n",
       "│ 00135000   ┆        ┆            ┆ 14:11:00   ┆            ┆ 00:00:00   ┆            ┆           │\n",
       "└────────────┴────────┴────────────┴────────────┴────────────┴────────────┴────────────┴───────────┘"
      ]
     },
     "execution_count": 132,
     "metadata": {},
     "output_type": "execute_result"
    }
   ],
   "source": [
    "# Convert the option_type to use OptionType enum\n",
    "from enum import Enum\n",
    "\n",
    "class OptionType(Enum):\n",
    "    CALL = \"CALL\"\n",
    "    PUT = \"PUT\"\n",
    "\n",
    "option_df = option_df.with_columns(\n",
    "    pl.col(\"option_type\").map_elements(\n",
    "        lambda option_type_str: OptionType.CALL.value if option_type_str == \"C\" else OptionType.PUT.value, \n",
    "        return_dtype=pl.String\n",
    "    ).cast(pl.Enum([OptionType.CALL.value, OptionType.PUT.value])).alias(\"option_type\")\n",
    ")\n",
    "\n",
    "option_df.head()"
   ]
  },
  {
   "cell_type": "code",
   "execution_count": 133,
   "id": "da55eb52",
   "metadata": {},
   "outputs": [],
   "source": [
    "# Compiled all the previous into a single function\n",
    "\n",
    "def enhance_option_parquet(option_df: pl.DataFrame) -> pl.DataFrame:\n",
    "    \n",
    "    # Rename and select only required columns\n",
    "    option_df = option_df.select('ticker', 'volume', 'open', 'window_start')\n",
    "    option_df = option_df.rename({'ticker': 'option_ticker', 'open': 'option_price', 'window_start': 'timestamp'})\n",
    "    \n",
    "    # Parse Polygon option tickers to useful columns\n",
    "    regex_pattern = r\"O:([A-Za-z]+)([0-9]+)([PC])([0-9]+)\"\n",
    "    option_df = option_df.with_columns(\n",
    "        pl.col('option_ticker').str.extract(regex_pattern, 1).alias('underlying_ticker'),\n",
    "        pl.col('option_ticker').str.extract(regex_pattern, 2).alias('expiration_date'),\n",
    "        pl.col('option_ticker').str.extract(regex_pattern, 3).alias('option_type'),\n",
    "        pl.col('option_ticker').str.extract(regex_pattern, 4).alias('strike_price'),\n",
    "    )\n",
    "    \n",
    "    # Expiration date can sometimes include an extra int at the front (because Polygon idk) so we need to filter those out and transform to proper type\n",
    "    option_df = option_df.with_columns(\n",
    "        pl.when(pl.col('expiration_date').str.len_chars() == 7)\n",
    "        .then(pl.col(\"expiration_date\").str.slice(1))\n",
    "        .otherwise(pl.col('expiration_date'))\n",
    "        .alias('expiration_date')\n",
    "    )\n",
    "    \n",
    "    # Convert column types\n",
    "    option_df = option_df.with_columns(\n",
    "        pl.col(\"expiration_date\").map_elements(\n",
    "            lambda date_str: f\"20{date_str[0:2]}-{date_str[2:4]}-{date_str[4:]}\",\n",
    "            return_dtype=pl.self_dtype()\n",
    "            ).str.to_datetime(time_unit=\"ns\").alias(\"expiration_date\"),\n",
    "        pl.col('option_price').cast(pl.Decimal(scale=2)).alias('option_price'),\n",
    "        pl.from_epoch(\"timestamp\", time_unit=\"ns\").alias(\"timestamp\"),\n",
    "        pl.col(\"strike_price\").map_elements(lambda strike_price_str: float(strike_price_str) / 1000.0, return_dtype=pl.Float64).cast(pl.Decimal(scale=2)).alias(\"strike_price\"),\n",
    "        pl.col(\"option_type\").map_elements(\n",
    "            lambda option_type_str: OptionType.CALL.value if option_type_str == \"C\" else OptionType.PUT.value, \n",
    "            return_dtype=pl.String\n",
    "        ).cast(pl.Enum([OptionType.CALL.value, OptionType.PUT.value])).alias(\"option_type\")\n",
    "    )\n",
    "    \n",
    "    return option_df"
   ]
  },
  {
   "cell_type": "code",
   "execution_count": 134,
   "id": "033fee51",
   "metadata": {},
   "outputs": [
    {
     "data": {
      "text/html": [
       "<div><style>\n",
       ".dataframe > thead > tr,\n",
       ".dataframe > tbody > tr {\n",
       "  text-align: right;\n",
       "  white-space: pre-wrap;\n",
       "}\n",
       "</style>\n",
       "<small>shape: (5, 8)</small><table border=\"1\" class=\"dataframe\"><thead><tr><th>ticker</th><th>volume</th><th>open</th><th>close</th><th>high</th><th>low</th><th>window_start</th><th>transactions</th></tr><tr><td>str</td><td>i64</td><td>f64</td><td>f64</td><td>f64</td><td>f64</td><td>i64</td><td>i64</td></tr></thead><tbody><tr><td>&quot;O:A240621C00110000&quot;</td><td>4</td><td>22.11</td><td>22.11</td><td>22.11</td><td>22.11</td><td>1718115060000000000</td><td>1</td></tr><tr><td>&quot;O:A240621C00135000&quot;</td><td>1</td><td>1.0</td><td>1.0</td><td>1.0</td><td>1.0</td><td>1718112600000000000</td><td>1</td></tr><tr><td>&quot;O:A240621C00135000&quot;</td><td>1</td><td>0.85</td><td>0.85</td><td>0.85</td><td>0.85</td><td>1718113140000000000</td><td>1</td></tr><tr><td>&quot;O:A240621C00135000&quot;</td><td>1</td><td>0.87</td><td>0.87</td><td>0.87</td><td>0.87</td><td>1718113200000000000</td><td>1</td></tr><tr><td>&quot;O:A240621C00135000&quot;</td><td>1</td><td>0.85</td><td>0.85</td><td>0.85</td><td>0.85</td><td>1718115060000000000</td><td>1</td></tr></tbody></table></div>"
      ],
      "text/plain": [
       "shape: (5, 8)\n",
       "┌────────────────────┬────────┬───────┬───────┬───────┬───────┬─────────────────────┬──────────────┐\n",
       "│ ticker             ┆ volume ┆ open  ┆ close ┆ high  ┆ low   ┆ window_start        ┆ transactions │\n",
       "│ ---                ┆ ---    ┆ ---   ┆ ---   ┆ ---   ┆ ---   ┆ ---                 ┆ ---          │\n",
       "│ str                ┆ i64    ┆ f64   ┆ f64   ┆ f64   ┆ f64   ┆ i64                 ┆ i64          │\n",
       "╞════════════════════╪════════╪═══════╪═══════╪═══════╪═══════╪═════════════════════╪══════════════╡\n",
       "│ O:A240621C00110000 ┆ 4      ┆ 22.11 ┆ 22.11 ┆ 22.11 ┆ 22.11 ┆ 1718115060000000000 ┆ 1            │\n",
       "│ O:A240621C00135000 ┆ 1      ┆ 1.0   ┆ 1.0   ┆ 1.0   ┆ 1.0   ┆ 1718112600000000000 ┆ 1            │\n",
       "│ O:A240621C00135000 ┆ 1      ┆ 0.85  ┆ 0.85  ┆ 0.85  ┆ 0.85  ┆ 1718113140000000000 ┆ 1            │\n",
       "│ O:A240621C00135000 ┆ 1      ┆ 0.87  ┆ 0.87  ┆ 0.87  ┆ 0.87  ┆ 1718113200000000000 ┆ 1            │\n",
       "│ O:A240621C00135000 ┆ 1      ┆ 0.85  ┆ 0.85  ┆ 0.85  ┆ 0.85  ┆ 1718115060000000000 ┆ 1            │\n",
       "└────────────────────┴────────┴───────┴───────┴───────┴───────┴─────────────────────┴──────────────┘"
      ]
     },
     "execution_count": 134,
     "metadata": {},
     "output_type": "execute_result"
    }
   ],
   "source": [
    "# Try it out on a fresh read\n",
    "fresh_option_df = pl.read_parquet(\"test_data/options_minute_aggs.parquet\")\n",
    "fresh_option_df.head()"
   ]
  },
  {
   "cell_type": "code",
   "execution_count": 135,
   "id": "cd31907c",
   "metadata": {},
   "outputs": [
    {
     "data": {
      "text/html": [
       "<div><style>\n",
       ".dataframe > thead > tr,\n",
       ".dataframe > tbody > tr {\n",
       "  text-align: right;\n",
       "  white-space: pre-wrap;\n",
       "}\n",
       "</style>\n",
       "<small>shape: (5, 8)</small><table border=\"1\" class=\"dataframe\"><thead><tr><th>option_ticker</th><th>volume</th><th>option_price</th><th>timestamp</th><th>underlying_ticker</th><th>expiration_date</th><th>option_type</th><th>strike_price</th></tr><tr><td>str</td><td>i64</td><td>decimal[*,2]</td><td>datetime[ns]</td><td>str</td><td>datetime[ns]</td><td>enum</td><td>decimal[*,2]</td></tr></thead><tbody><tr><td>&quot;O:A240621C00110000&quot;</td><td>4</td><td>22.11</td><td>2024-06-11 14:11:00</td><td>&quot;A&quot;</td><td>2024-06-21 00:00:00</td><td>&quot;CALL&quot;</td><td>110.00</td></tr><tr><td>&quot;O:A240621C00135000&quot;</td><td>1</td><td>1.00</td><td>2024-06-11 13:30:00</td><td>&quot;A&quot;</td><td>2024-06-21 00:00:00</td><td>&quot;CALL&quot;</td><td>135.00</td></tr><tr><td>&quot;O:A240621C00135000&quot;</td><td>1</td><td>0.85</td><td>2024-06-11 13:39:00</td><td>&quot;A&quot;</td><td>2024-06-21 00:00:00</td><td>&quot;CALL&quot;</td><td>135.00</td></tr><tr><td>&quot;O:A240621C00135000&quot;</td><td>1</td><td>0.87</td><td>2024-06-11 13:40:00</td><td>&quot;A&quot;</td><td>2024-06-21 00:00:00</td><td>&quot;CALL&quot;</td><td>135.00</td></tr><tr><td>&quot;O:A240621C00135000&quot;</td><td>1</td><td>0.85</td><td>2024-06-11 14:11:00</td><td>&quot;A&quot;</td><td>2024-06-21 00:00:00</td><td>&quot;CALL&quot;</td><td>135.00</td></tr></tbody></table></div>"
      ],
      "text/plain": [
       "shape: (5, 8)\n",
       "┌────────────┬────────┬────────────┬────────────┬────────────┬────────────┬────────────┬───────────┐\n",
       "│ option_tic ┆ volume ┆ option_pri ┆ timestamp  ┆ underlying ┆ expiration ┆ option_typ ┆ strike_pr │\n",
       "│ ker        ┆ ---    ┆ ce         ┆ ---        ┆ _ticker    ┆ _date      ┆ e          ┆ ice       │\n",
       "│ ---        ┆ i64    ┆ ---        ┆ datetime[n ┆ ---        ┆ ---        ┆ ---        ┆ ---       │\n",
       "│ str        ┆        ┆ decimal[*, ┆ s]         ┆ str        ┆ datetime[n ┆ enum       ┆ decimal[* │\n",
       "│            ┆        ┆ 2]         ┆            ┆            ┆ s]         ┆            ┆ ,2]       │\n",
       "╞════════════╪════════╪════════════╪════════════╪════════════╪════════════╪════════════╪═══════════╡\n",
       "│ O:A240621C ┆ 4      ┆ 22.11      ┆ 2024-06-11 ┆ A          ┆ 2024-06-21 ┆ CALL       ┆ 110.00    │\n",
       "│ 00110000   ┆        ┆            ┆ 14:11:00   ┆            ┆ 00:00:00   ┆            ┆           │\n",
       "│ O:A240621C ┆ 1      ┆ 1.00       ┆ 2024-06-11 ┆ A          ┆ 2024-06-21 ┆ CALL       ┆ 135.00    │\n",
       "│ 00135000   ┆        ┆            ┆ 13:30:00   ┆            ┆ 00:00:00   ┆            ┆           │\n",
       "│ O:A240621C ┆ 1      ┆ 0.85       ┆ 2024-06-11 ┆ A          ┆ 2024-06-21 ┆ CALL       ┆ 135.00    │\n",
       "│ 00135000   ┆        ┆            ┆ 13:39:00   ┆            ┆ 00:00:00   ┆            ┆           │\n",
       "│ O:A240621C ┆ 1      ┆ 0.87       ┆ 2024-06-11 ┆ A          ┆ 2024-06-21 ┆ CALL       ┆ 135.00    │\n",
       "│ 00135000   ┆        ┆            ┆ 13:40:00   ┆            ┆ 00:00:00   ┆            ┆           │\n",
       "│ O:A240621C ┆ 1      ┆ 0.85       ┆ 2024-06-11 ┆ A          ┆ 2024-06-21 ┆ CALL       ┆ 135.00    │\n",
       "│ 00135000   ┆        ┆            ┆ 14:11:00   ┆            ┆ 00:00:00   ┆            ┆           │\n",
       "└────────────┴────────┴────────────┴────────────┴────────────┴────────────┴────────────┴───────────┘"
      ]
     },
     "execution_count": 135,
     "metadata": {},
     "output_type": "execute_result"
    }
   ],
   "source": [
    "enhanced_option_df = enhance_option_parquet(fresh_option_df)\n",
    "enhanced_option_df.head()"
   ]
  },
  {
   "cell_type": "code",
   "execution_count": 136,
   "id": "64d51d08",
   "metadata": {},
   "outputs": [
    {
     "data": {
      "text/html": [
       "<div><style>\n",
       ".dataframe > thead > tr,\n",
       ".dataframe > tbody > tr {\n",
       "  text-align: right;\n",
       "  white-space: pre-wrap;\n",
       "}\n",
       "</style>\n",
       "<small>shape: (5, 8)</small><table border=\"1\" class=\"dataframe\"><thead><tr><th>ticker</th><th>volume</th><th>open</th><th>close</th><th>high</th><th>low</th><th>window_start</th><th>transactions</th></tr><tr><td>str</td><td>i64</td><td>f64</td><td>f64</td><td>f64</td><td>f64</td><td>i64</td><td>i64</td></tr></thead><tbody><tr><td>&quot;O:A240621C00110000&quot;</td><td>4</td><td>22.11</td><td>22.11</td><td>22.11</td><td>22.11</td><td>1718078400000000000</td><td>1</td></tr><tr><td>&quot;O:A240621C00135000&quot;</td><td>21</td><td>1.0</td><td>0.95</td><td>1.15</td><td>0.85</td><td>1718078400000000000</td><td>9</td></tr><tr><td>&quot;O:A240621C00140000&quot;</td><td>8</td><td>0.15</td><td>0.13</td><td>0.25</td><td>0.13</td><td>1718078400000000000</td><td>5</td></tr><tr><td>&quot;O:A240621C00145000&quot;</td><td>1</td><td>0.03</td><td>0.03</td><td>0.03</td><td>0.03</td><td>1718078400000000000</td><td>1</td></tr><tr><td>&quot;O:A240621C00160000&quot;</td><td>2</td><td>0.01</td><td>0.05</td><td>0.05</td><td>0.01</td><td>1718078400000000000</td><td>2</td></tr></tbody></table></div>"
      ],
      "text/plain": [
       "shape: (5, 8)\n",
       "┌────────────────────┬────────┬───────┬───────┬───────┬───────┬─────────────────────┬──────────────┐\n",
       "│ ticker             ┆ volume ┆ open  ┆ close ┆ high  ┆ low   ┆ window_start        ┆ transactions │\n",
       "│ ---                ┆ ---    ┆ ---   ┆ ---   ┆ ---   ┆ ---   ┆ ---                 ┆ ---          │\n",
       "│ str                ┆ i64    ┆ f64   ┆ f64   ┆ f64   ┆ f64   ┆ i64                 ┆ i64          │\n",
       "╞════════════════════╪════════╪═══════╪═══════╪═══════╪═══════╪═════════════════════╪══════════════╡\n",
       "│ O:A240621C00110000 ┆ 4      ┆ 22.11 ┆ 22.11 ┆ 22.11 ┆ 22.11 ┆ 1718078400000000000 ┆ 1            │\n",
       "│ O:A240621C00135000 ┆ 21     ┆ 1.0   ┆ 0.95  ┆ 1.15  ┆ 0.85  ┆ 1718078400000000000 ┆ 9            │\n",
       "│ O:A240621C00140000 ┆ 8      ┆ 0.15  ┆ 0.13  ┆ 0.25  ┆ 0.13  ┆ 1718078400000000000 ┆ 5            │\n",
       "│ O:A240621C00145000 ┆ 1      ┆ 0.03  ┆ 0.03  ┆ 0.03  ┆ 0.03  ┆ 1718078400000000000 ┆ 1            │\n",
       "│ O:A240621C00160000 ┆ 2      ┆ 0.01  ┆ 0.05  ┆ 0.05  ┆ 0.01  ┆ 1718078400000000000 ┆ 2            │\n",
       "└────────────────────┴────────┴───────┴───────┴───────┴───────┴─────────────────────┴──────────────┘"
      ]
     },
     "execution_count": 136,
     "metadata": {},
     "output_type": "execute_result"
    }
   ],
   "source": [
    "# Now trying with a day_aggs (should be the same)\n",
    "options_day_df = pl.read_parquet(\"test_data/options_day_aggs.parquet\")\n",
    "options_day_df.head()"
   ]
  },
  {
   "cell_type": "code",
   "execution_count": 137,
   "id": "ec54f6d9",
   "metadata": {},
   "outputs": [
    {
     "data": {
      "text/html": [
       "<div><style>\n",
       ".dataframe > thead > tr,\n",
       ".dataframe > tbody > tr {\n",
       "  text-align: right;\n",
       "  white-space: pre-wrap;\n",
       "}\n",
       "</style>\n",
       "<small>shape: (5, 8)</small><table border=\"1\" class=\"dataframe\"><thead><tr><th>option_ticker</th><th>volume</th><th>option_price</th><th>timestamp</th><th>underlying_ticker</th><th>expiration_date</th><th>option_type</th><th>strike_price</th></tr><tr><td>str</td><td>i64</td><td>decimal[*,2]</td><td>datetime[ns]</td><td>str</td><td>datetime[ns]</td><td>enum</td><td>decimal[*,2]</td></tr></thead><tbody><tr><td>&quot;O:A240621C00110000&quot;</td><td>4</td><td>22.11</td><td>2024-06-11 04:00:00</td><td>&quot;A&quot;</td><td>2024-06-21 00:00:00</td><td>&quot;CALL&quot;</td><td>110.00</td></tr><tr><td>&quot;O:A240621C00135000&quot;</td><td>21</td><td>1.00</td><td>2024-06-11 04:00:00</td><td>&quot;A&quot;</td><td>2024-06-21 00:00:00</td><td>&quot;CALL&quot;</td><td>135.00</td></tr><tr><td>&quot;O:A240621C00140000&quot;</td><td>8</td><td>0.15</td><td>2024-06-11 04:00:00</td><td>&quot;A&quot;</td><td>2024-06-21 00:00:00</td><td>&quot;CALL&quot;</td><td>140.00</td></tr><tr><td>&quot;O:A240621C00145000&quot;</td><td>1</td><td>0.03</td><td>2024-06-11 04:00:00</td><td>&quot;A&quot;</td><td>2024-06-21 00:00:00</td><td>&quot;CALL&quot;</td><td>145.00</td></tr><tr><td>&quot;O:A240621C00160000&quot;</td><td>2</td><td>0.01</td><td>2024-06-11 04:00:00</td><td>&quot;A&quot;</td><td>2024-06-21 00:00:00</td><td>&quot;CALL&quot;</td><td>160.00</td></tr></tbody></table></div>"
      ],
      "text/plain": [
       "shape: (5, 8)\n",
       "┌────────────┬────────┬────────────┬────────────┬────────────┬────────────┬────────────┬───────────┐\n",
       "│ option_tic ┆ volume ┆ option_pri ┆ timestamp  ┆ underlying ┆ expiration ┆ option_typ ┆ strike_pr │\n",
       "│ ker        ┆ ---    ┆ ce         ┆ ---        ┆ _ticker    ┆ _date      ┆ e          ┆ ice       │\n",
       "│ ---        ┆ i64    ┆ ---        ┆ datetime[n ┆ ---        ┆ ---        ┆ ---        ┆ ---       │\n",
       "│ str        ┆        ┆ decimal[*, ┆ s]         ┆ str        ┆ datetime[n ┆ enum       ┆ decimal[* │\n",
       "│            ┆        ┆ 2]         ┆            ┆            ┆ s]         ┆            ┆ ,2]       │\n",
       "╞════════════╪════════╪════════════╪════════════╪════════════╪════════════╪════════════╪═══════════╡\n",
       "│ O:A240621C ┆ 4      ┆ 22.11      ┆ 2024-06-11 ┆ A          ┆ 2024-06-21 ┆ CALL       ┆ 110.00    │\n",
       "│ 00110000   ┆        ┆            ┆ 04:00:00   ┆            ┆ 00:00:00   ┆            ┆           │\n",
       "│ O:A240621C ┆ 21     ┆ 1.00       ┆ 2024-06-11 ┆ A          ┆ 2024-06-21 ┆ CALL       ┆ 135.00    │\n",
       "│ 00135000   ┆        ┆            ┆ 04:00:00   ┆            ┆ 00:00:00   ┆            ┆           │\n",
       "│ O:A240621C ┆ 8      ┆ 0.15       ┆ 2024-06-11 ┆ A          ┆ 2024-06-21 ┆ CALL       ┆ 140.00    │\n",
       "│ 00140000   ┆        ┆            ┆ 04:00:00   ┆            ┆ 00:00:00   ┆            ┆           │\n",
       "│ O:A240621C ┆ 1      ┆ 0.03       ┆ 2024-06-11 ┆ A          ┆ 2024-06-21 ┆ CALL       ┆ 145.00    │\n",
       "│ 00145000   ┆        ┆            ┆ 04:00:00   ┆            ┆ 00:00:00   ┆            ┆           │\n",
       "│ O:A240621C ┆ 2      ┆ 0.01       ┆ 2024-06-11 ┆ A          ┆ 2024-06-21 ┆ CALL       ┆ 160.00    │\n",
       "│ 00160000   ┆        ┆            ┆ 04:00:00   ┆            ┆ 00:00:00   ┆            ┆           │\n",
       "└────────────┴────────┴────────────┴────────────┴────────────┴────────────┴────────────┴───────────┘"
      ]
     },
     "execution_count": 137,
     "metadata": {},
     "output_type": "execute_result"
    }
   ],
   "source": [
    "options_day_df = enhance_option_parquet(options_day_df)\n",
    "options_day_df.head()\n"
   ]
  },
  {
   "cell_type": "code",
   "execution_count": 155,
   "id": "945e81b4",
   "metadata": {},
   "outputs": [
    {
     "data": {
      "text/html": [
       "<div><style>\n",
       ".dataframe > thead > tr,\n",
       ".dataframe > tbody > tr {\n",
       "  text-align: right;\n",
       "  white-space: pre-wrap;\n",
       "}\n",
       "</style>\n",
       "<small>shape: (1, 8)</small><table border=\"1\" class=\"dataframe\"><thead><tr><th>option_ticker</th><th>volume</th><th>option_price</th><th>timestamp</th><th>underlying_ticker</th><th>expiration_date</th><th>option_type</th><th>strike_price</th></tr><tr><td>u32</td><td>u32</td><td>u32</td><td>u32</td><td>u32</td><td>u32</td><td>u32</td><td>u32</td></tr></thead><tbody><tr><td>0</td><td>0</td><td>0</td><td>0</td><td>0</td><td>0</td><td>0</td><td>0</td></tr></tbody></table></div>"
      ],
      "text/plain": [
       "shape: (1, 8)\n",
       "┌────────────┬────────┬────────────┬───────────┬────────────┬────────────┬────────────┬────────────┐\n",
       "│ option_tic ┆ volume ┆ option_pri ┆ timestamp ┆ underlying ┆ expiration ┆ option_typ ┆ strike_pri │\n",
       "│ ker        ┆ ---    ┆ ce         ┆ ---       ┆ _ticker    ┆ _date      ┆ e          ┆ ce         │\n",
       "│ ---        ┆ u32    ┆ ---        ┆ u32       ┆ ---        ┆ ---        ┆ ---        ┆ ---        │\n",
       "│ u32        ┆        ┆ u32        ┆           ┆ u32        ┆ u32        ┆ u32        ┆ u32        │\n",
       "╞════════════╪════════╪════════════╪═══════════╪════════════╪════════════╪════════════╪════════════╡\n",
       "│ 0          ┆ 0      ┆ 0          ┆ 0         ┆ 0          ┆ 0          ┆ 0          ┆ 0          │\n",
       "└────────────┴────────┴────────────┴───────────┴────────────┴────────────┴────────────┴────────────┘"
      ]
     },
     "execution_count": 155,
     "metadata": {},
     "output_type": "execute_result"
    }
   ],
   "source": [
    "# Should probably check for nulls\n",
    "options_day_df.null_count()"
   ]
  },
  {
   "cell_type": "code",
   "execution_count": 138,
   "id": "b01a6a8e",
   "metadata": {},
   "outputs": [
    {
     "data": {
      "text/html": [
       "<div><style>\n",
       ".dataframe > thead > tr,\n",
       ".dataframe > tbody > tr {\n",
       "  text-align: right;\n",
       "  white-space: pre-wrap;\n",
       "}\n",
       "</style>\n",
       "<small>shape: (5, 7)</small><table border=\"1\" class=\"dataframe\"><thead><tr><th>ticker</th><th>conditions</th><th>correction</th><th>exchange</th><th>price</th><th>sip_timestamp</th><th>size</th></tr><tr><td>str</td><td>f64</td><td>i64</td><td>i64</td><td>f64</td><td>i64</td><td>i64</td></tr></thead><tbody><tr><td>&quot;O:A240621C00110000&quot;</td><td>209.0</td><td>0</td><td>316</td><td>22.11</td><td>1718115086030000000</td><td>4</td></tr><tr><td>&quot;O:A240621C00135000&quot;</td><td>209.0</td><td>0</td><td>302</td><td>1.0</td><td>1718112619815000000</td><td>1</td></tr><tr><td>&quot;O:A240621C00135000&quot;</td><td>232.0</td><td>0</td><td>322</td><td>0.85</td><td>1718113199235000000</td><td>1</td></tr><tr><td>&quot;O:A240621C00135000&quot;</td><td>233.0</td><td>0</td><td>302</td><td>0.87</td><td>1718113202886000000</td><td>1</td></tr><tr><td>&quot;O:A240621C00135000&quot;</td><td>209.0</td><td>0</td><td>308</td><td>0.85</td><td>1718115084469000000</td><td>1</td></tr></tbody></table></div>"
      ],
      "text/plain": [
       "shape: (5, 7)\n",
       "┌────────────────────┬────────────┬────────────┬──────────┬───────┬─────────────────────┬──────┐\n",
       "│ ticker             ┆ conditions ┆ correction ┆ exchange ┆ price ┆ sip_timestamp       ┆ size │\n",
       "│ ---                ┆ ---        ┆ ---        ┆ ---      ┆ ---   ┆ ---                 ┆ ---  │\n",
       "│ str                ┆ f64        ┆ i64        ┆ i64      ┆ f64   ┆ i64                 ┆ i64  │\n",
       "╞════════════════════╪════════════╪════════════╪══════════╪═══════╪═════════════════════╪══════╡\n",
       "│ O:A240621C00110000 ┆ 209.0      ┆ 0          ┆ 316      ┆ 22.11 ┆ 1718115086030000000 ┆ 4    │\n",
       "│ O:A240621C00135000 ┆ 209.0      ┆ 0          ┆ 302      ┆ 1.0   ┆ 1718112619815000000 ┆ 1    │\n",
       "│ O:A240621C00135000 ┆ 232.0      ┆ 0          ┆ 322      ┆ 0.85  ┆ 1718113199235000000 ┆ 1    │\n",
       "│ O:A240621C00135000 ┆ 233.0      ┆ 0          ┆ 302      ┆ 0.87  ┆ 1718113202886000000 ┆ 1    │\n",
       "│ O:A240621C00135000 ┆ 209.0      ┆ 0          ┆ 308      ┆ 0.85  ┆ 1718115084469000000 ┆ 1    │\n",
       "└────────────────────┴────────────┴────────────┴──────────┴───────┴─────────────────────┴──────┘"
      ]
     },
     "execution_count": 138,
     "metadata": {},
     "output_type": "execute_result"
    }
   ],
   "source": [
    "# Going to look at the trades ones now, likely a little different\n",
    "option_trades_df = pl.read_parquet(\"test_data/options_trades.parquet\")\n",
    "option_trades_df.head()"
   ]
  },
  {
   "cell_type": "code",
   "execution_count": 139,
   "id": "fe835b8f",
   "metadata": {},
   "outputs": [
    {
     "data": {
      "text/html": [
       "<div><style>\n",
       ".dataframe > thead > tr,\n",
       ".dataframe > tbody > tr {\n",
       "  text-align: right;\n",
       "  white-space: pre-wrap;\n",
       "}\n",
       "</style>\n",
       "<small>shape: (5, 8)</small><table border=\"1\" class=\"dataframe\"><thead><tr><th>option_ticker</th><th>option_price</th><th>timestamp</th><th>trade_size</th><th>underlying_ticker</th><th>expiration_date</th><th>option_type</th><th>strike_price</th></tr><tr><td>str</td><td>decimal[*,2]</td><td>datetime[ns]</td><td>i64</td><td>str</td><td>datetime[ns]</td><td>enum</td><td>decimal[*,2]</td></tr></thead><tbody><tr><td>&quot;O:A240621C00110000&quot;</td><td>22.11</td><td>2024-06-11 14:11:26.030</td><td>4</td><td>&quot;A&quot;</td><td>2024-06-21 00:00:00</td><td>&quot;CALL&quot;</td><td>110.00</td></tr><tr><td>&quot;O:A240621C00135000&quot;</td><td>1.00</td><td>2024-06-11 13:30:19.815</td><td>1</td><td>&quot;A&quot;</td><td>2024-06-21 00:00:00</td><td>&quot;CALL&quot;</td><td>135.00</td></tr><tr><td>&quot;O:A240621C00135000&quot;</td><td>0.85</td><td>2024-06-11 13:39:59.235</td><td>1</td><td>&quot;A&quot;</td><td>2024-06-21 00:00:00</td><td>&quot;CALL&quot;</td><td>135.00</td></tr><tr><td>&quot;O:A240621C00135000&quot;</td><td>0.87</td><td>2024-06-11 13:40:02.886</td><td>1</td><td>&quot;A&quot;</td><td>2024-06-21 00:00:00</td><td>&quot;CALL&quot;</td><td>135.00</td></tr><tr><td>&quot;O:A240621C00135000&quot;</td><td>0.85</td><td>2024-06-11 14:11:24.469</td><td>1</td><td>&quot;A&quot;</td><td>2024-06-21 00:00:00</td><td>&quot;CALL&quot;</td><td>135.00</td></tr></tbody></table></div>"
      ],
      "text/plain": [
       "shape: (5, 8)\n",
       "┌────────────┬────────────┬────────────┬───────────┬───────────┬───────────┬───────────┬───────────┐\n",
       "│ option_tic ┆ option_pri ┆ timestamp  ┆ trade_siz ┆ underlyin ┆ expiratio ┆ option_ty ┆ strike_pr │\n",
       "│ ker        ┆ ce         ┆ ---        ┆ e         ┆ g_ticker  ┆ n_date    ┆ pe        ┆ ice       │\n",
       "│ ---        ┆ ---        ┆ datetime[n ┆ ---       ┆ ---       ┆ ---       ┆ ---       ┆ ---       │\n",
       "│ str        ┆ decimal[*, ┆ s]         ┆ i64       ┆ str       ┆ datetime[ ┆ enum      ┆ decimal[* │\n",
       "│            ┆ 2]         ┆            ┆           ┆           ┆ ns]       ┆           ┆ ,2]       │\n",
       "╞════════════╪════════════╪════════════╪═══════════╪═══════════╪═══════════╪═══════════╪═══════════╡\n",
       "│ O:A240621C ┆ 22.11      ┆ 2024-06-11 ┆ 4         ┆ A         ┆ 2024-06-2 ┆ CALL      ┆ 110.00    │\n",
       "│ 00110000   ┆            ┆ 14:11:26.0 ┆           ┆           ┆ 1         ┆           ┆           │\n",
       "│            ┆            ┆ 30         ┆           ┆           ┆ 00:00:00  ┆           ┆           │\n",
       "│ O:A240621C ┆ 1.00       ┆ 2024-06-11 ┆ 1         ┆ A         ┆ 2024-06-2 ┆ CALL      ┆ 135.00    │\n",
       "│ 00135000   ┆            ┆ 13:30:19.8 ┆           ┆           ┆ 1         ┆           ┆           │\n",
       "│            ┆            ┆ 15         ┆           ┆           ┆ 00:00:00  ┆           ┆           │\n",
       "│ O:A240621C ┆ 0.85       ┆ 2024-06-11 ┆ 1         ┆ A         ┆ 2024-06-2 ┆ CALL      ┆ 135.00    │\n",
       "│ 00135000   ┆            ┆ 13:39:59.2 ┆           ┆           ┆ 1         ┆           ┆           │\n",
       "│            ┆            ┆ 35         ┆           ┆           ┆ 00:00:00  ┆           ┆           │\n",
       "│ O:A240621C ┆ 0.87       ┆ 2024-06-11 ┆ 1         ┆ A         ┆ 2024-06-2 ┆ CALL      ┆ 135.00    │\n",
       "│ 00135000   ┆            ┆ 13:40:02.8 ┆           ┆           ┆ 1         ┆           ┆           │\n",
       "│            ┆            ┆ 86         ┆           ┆           ┆ 00:00:00  ┆           ┆           │\n",
       "│ O:A240621C ┆ 0.85       ┆ 2024-06-11 ┆ 1         ┆ A         ┆ 2024-06-2 ┆ CALL      ┆ 135.00    │\n",
       "│ 00135000   ┆            ┆ 14:11:24.4 ┆           ┆           ┆ 1         ┆           ┆           │\n",
       "│            ┆            ┆ 69         ┆           ┆           ┆ 00:00:00  ┆           ┆           │\n",
       "└────────────┴────────────┴────────────┴───────────┴───────────┴───────────┴───────────┴───────────┘"
      ]
     },
     "execution_count": 139,
     "metadata": {},
     "output_type": "execute_result"
    }
   ],
   "source": [
    "# Pretty much everything is the same, just have to adjust selected columns\n",
    "\n",
    "def enhance_option_trades_parquet(option_df: pl.DataFrame) -> pl.DataFrame:\n",
    "    \n",
    "    # Rename and select only required columns\n",
    "    option_df = option_df.select('ticker', 'price', 'sip_timestamp', 'size')\n",
    "    option_df = option_df.rename({'ticker': 'option_ticker', 'price': 'option_price', 'sip_timestamp':'timestamp', 'size': 'trade_size'})\n",
    "    \n",
    "    # Parse Polygon option tickers to useful columns\n",
    "    regex_pattern = r\"O:([A-Za-z]+)([0-9]+)([PC])([0-9]+)\"\n",
    "    option_df = option_df.with_columns(\n",
    "        pl.col('option_ticker').str.extract(regex_pattern, 1).alias('underlying_ticker'),\n",
    "        pl.col('option_ticker').str.extract(regex_pattern, 2).alias('expiration_date'),\n",
    "        pl.col('option_ticker').str.extract(regex_pattern, 3).alias('option_type'),\n",
    "        pl.col('option_ticker').str.extract(regex_pattern, 4).alias('strike_price'),\n",
    "    )\n",
    "    \n",
    "    # Expiration date can sometimes include an extra int at the front (because Polygon idk) so we need to filter those out and transform to proper type\n",
    "    option_df = option_df.with_columns(\n",
    "        pl.when(pl.col('expiration_date').str.len_chars() == 7)\n",
    "        .then(pl.col(\"expiration_date\").str.slice(1))\n",
    "        .otherwise(pl.col('expiration_date'))\n",
    "        .alias('expiration_date')\n",
    "    )\n",
    "    \n",
    "    # Convert column types\n",
    "    option_df = option_df.with_columns(\n",
    "        pl.col(\"expiration_date\").map_elements(\n",
    "            lambda date_str: f\"20{date_str[0:2]}-{date_str[2:4]}-{date_str[4:]}\",\n",
    "            return_dtype=pl.self_dtype()\n",
    "            ).str.to_datetime(time_unit=\"ns\").alias(\"expiration_date\"),\n",
    "        pl.col('option_price').cast(pl.Decimal(scale=2)).alias('option_price'),\n",
    "        pl.from_epoch(\"timestamp\", time_unit=\"ns\").alias(\"timestamp\"),\n",
    "        pl.col(\"strike_price\").map_elements(lambda strike_price_str: float(strike_price_str) / 1000.0, return_dtype=pl.Float64).cast(pl.Decimal(scale=2)).alias(\"strike_price\"),\n",
    "        pl.col(\"option_type\").map_elements(\n",
    "            lambda option_type_str: OptionType.CALL.value if option_type_str == \"C\" else OptionType.PUT.value, \n",
    "            return_dtype=pl.String\n",
    "        ).cast(pl.Enum([OptionType.CALL.value, OptionType.PUT.value])).alias(\"option_type\")\n",
    "    )\n",
    "    \n",
    "    return option_df\n",
    "\n",
    "option_trades_df = enhance_option_trades_parquet(option_trades_df)\n",
    "option_trades_df.head()"
   ]
  },
  {
   "cell_type": "code",
   "execution_count": 154,
   "id": "871cd767",
   "metadata": {},
   "outputs": [
    {
     "data": {
      "text/html": [
       "<div><style>\n",
       ".dataframe > thead > tr,\n",
       ".dataframe > tbody > tr {\n",
       "  text-align: right;\n",
       "  white-space: pre-wrap;\n",
       "}\n",
       "</style>\n",
       "<small>shape: (1, 8)</small><table border=\"1\" class=\"dataframe\"><thead><tr><th>option_ticker</th><th>option_price</th><th>timestamp</th><th>trade_size</th><th>underlying_ticker</th><th>expiration_date</th><th>option_type</th><th>strike_price</th></tr><tr><td>u32</td><td>u32</td><td>u32</td><td>u32</td><td>u32</td><td>u32</td><td>u32</td><td>u32</td></tr></thead><tbody><tr><td>0</td><td>0</td><td>0</td><td>0</td><td>0</td><td>0</td><td>0</td><td>0</td></tr></tbody></table></div>"
      ],
      "text/plain": [
       "shape: (1, 8)\n",
       "┌────────────┬────────────┬───────────┬────────────┬───────────┬───────────┬───────────┬───────────┐\n",
       "│ option_tic ┆ option_pri ┆ timestamp ┆ trade_size ┆ underlyin ┆ expiratio ┆ option_ty ┆ strike_pr │\n",
       "│ ker        ┆ ce         ┆ ---       ┆ ---        ┆ g_ticker  ┆ n_date    ┆ pe        ┆ ice       │\n",
       "│ ---        ┆ ---        ┆ u32       ┆ u32        ┆ ---       ┆ ---       ┆ ---       ┆ ---       │\n",
       "│ u32        ┆ u32        ┆           ┆            ┆ u32       ┆ u32       ┆ u32       ┆ u32       │\n",
       "╞════════════╪════════════╪═══════════╪════════════╪═══════════╪═══════════╪═══════════╪═══════════╡\n",
       "│ 0          ┆ 0          ┆ 0         ┆ 0          ┆ 0         ┆ 0         ┆ 0         ┆ 0         │\n",
       "└────────────┴────────────┴───────────┴────────────┴───────────┴───────────┴───────────┴───────────┘"
      ]
     },
     "execution_count": 154,
     "metadata": {},
     "output_type": "execute_result"
    }
   ],
   "source": [
    "# Should probably check for nulls\n",
    "option_trades_df.null_count()"
   ]
  },
  {
   "cell_type": "code",
   "execution_count": 140,
   "id": "2ac8247d",
   "metadata": {},
   "outputs": [
    {
     "data": {
      "text/html": [
       "<div><style>\n",
       ".dataframe > thead > tr,\n",
       ".dataframe > tbody > tr {\n",
       "  text-align: right;\n",
       "  white-space: pre-wrap;\n",
       "}\n",
       "</style>\n",
       "<small>shape: (5, 8)</small><table border=\"1\" class=\"dataframe\"><thead><tr><th>ticker</th><th>volume</th><th>open</th><th>close</th><th>high</th><th>low</th><th>window_start</th><th>transactions</th></tr><tr><td>str</td><td>i64</td><td>f64</td><td>f64</td><td>f64</td><td>f64</td><td>i64</td><td>i64</td></tr></thead><tbody><tr><td>&quot;A&quot;</td><td>11265</td><td>132.64</td><td>132.38</td><td>132.835</td><td>132.38</td><td>1718112600000000000</td><td>70</td></tr><tr><td>&quot;A&quot;</td><td>436</td><td>132.405</td><td>132.405</td><td>132.405</td><td>132.405</td><td>1718112660000000000</td><td>25</td></tr><tr><td>&quot;A&quot;</td><td>728</td><td>132.0891</td><td>132.0891</td><td>132.0891</td><td>132.0891</td><td>1718112720000000000</td><td>33</td></tr><tr><td>&quot;A&quot;</td><td>2745</td><td>131.55</td><td>131.735</td><td>131.86</td><td>131.55</td><td>1718112900000000000</td><td>91</td></tr><tr><td>&quot;A&quot;</td><td>690</td><td>131.735</td><td>131.735</td><td>131.92</td><td>131.735</td><td>1718112960000000000</td><td>17</td></tr></tbody></table></div>"
      ],
      "text/plain": [
       "shape: (5, 8)\n",
       "┌────────┬────────┬──────────┬──────────┬──────────┬──────────┬─────────────────────┬──────────────┐\n",
       "│ ticker ┆ volume ┆ open     ┆ close    ┆ high     ┆ low      ┆ window_start        ┆ transactions │\n",
       "│ ---    ┆ ---    ┆ ---      ┆ ---      ┆ ---      ┆ ---      ┆ ---                 ┆ ---          │\n",
       "│ str    ┆ i64    ┆ f64      ┆ f64      ┆ f64      ┆ f64      ┆ i64                 ┆ i64          │\n",
       "╞════════╪════════╪══════════╪══════════╪══════════╪══════════╪═════════════════════╪══════════════╡\n",
       "│ A      ┆ 11265  ┆ 132.64   ┆ 132.38   ┆ 132.835  ┆ 132.38   ┆ 1718112600000000000 ┆ 70           │\n",
       "│ A      ┆ 436    ┆ 132.405  ┆ 132.405  ┆ 132.405  ┆ 132.405  ┆ 1718112660000000000 ┆ 25           │\n",
       "│ A      ┆ 728    ┆ 132.0891 ┆ 132.0891 ┆ 132.0891 ┆ 132.0891 ┆ 1718112720000000000 ┆ 33           │\n",
       "│ A      ┆ 2745   ┆ 131.55   ┆ 131.735  ┆ 131.86   ┆ 131.55   ┆ 1718112900000000000 ┆ 91           │\n",
       "│ A      ┆ 690    ┆ 131.735  ┆ 131.735  ┆ 131.92   ┆ 131.735  ┆ 1718112960000000000 ┆ 17           │\n",
       "└────────┴────────┴──────────┴──────────┴──────────┴──────────┴─────────────────────┴──────────────┘"
      ]
     },
     "execution_count": 140,
     "metadata": {},
     "output_type": "execute_result"
    }
   ],
   "source": [
    "# Now to take a look at the stock parquets\n",
    "\n",
    "stocks_df = pl.read_parquet(\"test_data/stocks_minute_aggs.parquet\")\n",
    "stocks_df.head()"
   ]
  },
  {
   "cell_type": "code",
   "execution_count": 141,
   "id": "82b88617",
   "metadata": {},
   "outputs": [
    {
     "data": {
      "text/html": [
       "<div><style>\n",
       ".dataframe > thead > tr,\n",
       ".dataframe > tbody > tr {\n",
       "  text-align: right;\n",
       "  white-space: pre-wrap;\n",
       "}\n",
       "</style>\n",
       "<small>shape: (5, 4)</small><table border=\"1\" class=\"dataframe\"><thead><tr><th>ticker</th><th>volume</th><th>price</th><th>timestamp</th></tr><tr><td>str</td><td>i64</td><td>decimal[*,2]</td><td>datetime[ns]</td></tr></thead><tbody><tr><td>&quot;A&quot;</td><td>11265</td><td>132.63</td><td>2024-06-11 13:30:00</td></tr><tr><td>&quot;A&quot;</td><td>436</td><td>132.40</td><td>2024-06-11 13:31:00</td></tr><tr><td>&quot;A&quot;</td><td>728</td><td>132.08</td><td>2024-06-11 13:32:00</td></tr><tr><td>&quot;A&quot;</td><td>2745</td><td>131.55</td><td>2024-06-11 13:35:00</td></tr><tr><td>&quot;A&quot;</td><td>690</td><td>131.73</td><td>2024-06-11 13:36:00</td></tr></tbody></table></div>"
      ],
      "text/plain": [
       "shape: (5, 4)\n",
       "┌────────┬────────┬──────────────┬─────────────────────┐\n",
       "│ ticker ┆ volume ┆ price        ┆ timestamp           │\n",
       "│ ---    ┆ ---    ┆ ---          ┆ ---                 │\n",
       "│ str    ┆ i64    ┆ decimal[*,2] ┆ datetime[ns]        │\n",
       "╞════════╪════════╪══════════════╪═════════════════════╡\n",
       "│ A      ┆ 11265  ┆ 132.63       ┆ 2024-06-11 13:30:00 │\n",
       "│ A      ┆ 436    ┆ 132.40       ┆ 2024-06-11 13:31:00 │\n",
       "│ A      ┆ 728    ┆ 132.08       ┆ 2024-06-11 13:32:00 │\n",
       "│ A      ┆ 2745   ┆ 131.55       ┆ 2024-06-11 13:35:00 │\n",
       "│ A      ┆ 690    ┆ 131.73       ┆ 2024-06-11 13:36:00 │\n",
       "└────────┴────────┴──────────────┴─────────────────────┘"
      ]
     },
     "execution_count": 141,
     "metadata": {},
     "output_type": "execute_result"
    }
   ],
   "source": [
    "# Using a lot of the same functionality we can slightly adjust to work on stock aggs\n",
    "\n",
    "def enhance_stock_parquet(stocks_df: pl.DataFrame) -> pl.DataFrame:\n",
    "    stocks_df = stocks_df.select('ticker', 'volume', 'open', 'window_start')\n",
    "    stocks_df = stocks_df.rename({'open': 'price', 'window_start': 'timestamp'})\n",
    "    stocks_df = stocks_df.with_columns(\n",
    "        pl.col('price').cast(pl.Decimal(scale=2)).alias('price'),\n",
    "        pl.from_epoch(\"timestamp\", time_unit=\"ns\").alias(\"timestamp\"),\n",
    "    )\n",
    "    return stocks_df\n",
    "\n",
    "stocks_df = enhance_stock_parquet(stocks_df)\n",
    "stocks_df.head()"
   ]
  },
  {
   "cell_type": "code",
   "execution_count": 142,
   "id": "ab0eeb49",
   "metadata": {},
   "outputs": [
    {
     "data": {
      "text/html": [
       "<div><style>\n",
       ".dataframe > thead > tr,\n",
       ".dataframe > tbody > tr {\n",
       "  text-align: right;\n",
       "  white-space: pre-wrap;\n",
       "}\n",
       "</style>\n",
       "<small>shape: (5, 4)</small><table border=\"1\" class=\"dataframe\"><thead><tr><th>ticker</th><th>volume</th><th>price</th><th>timestamp</th></tr><tr><td>str</td><td>i64</td><td>decimal[*,2]</td><td>datetime[ns]</td></tr></thead><tbody><tr><td>&quot;A&quot;</td><td>2081563</td><td>132.63</td><td>2024-06-11 04:00:00</td></tr><tr><td>&quot;AA&quot;</td><td>3520311</td><td>40.25</td><td>2024-06-11 04:00:00</td></tr><tr><td>&quot;AAA&quot;</td><td>10550</td><td>25.08</td><td>2024-06-11 04:00:00</td></tr><tr><td>&quot;AAAU&quot;</td><td>1173193</td><td>22.88</td><td>2024-06-11 04:00:00</td></tr><tr><td>&quot;AACG&quot;</td><td>11808</td><td>0.82</td><td>2024-06-11 04:00:00</td></tr></tbody></table></div>"
      ],
      "text/plain": [
       "shape: (5, 4)\n",
       "┌────────┬─────────┬──────────────┬─────────────────────┐\n",
       "│ ticker ┆ volume  ┆ price        ┆ timestamp           │\n",
       "│ ---    ┆ ---     ┆ ---          ┆ ---                 │\n",
       "│ str    ┆ i64     ┆ decimal[*,2] ┆ datetime[ns]        │\n",
       "╞════════╪═════════╪══════════════╪═════════════════════╡\n",
       "│ A      ┆ 2081563 ┆ 132.63       ┆ 2024-06-11 04:00:00 │\n",
       "│ AA     ┆ 3520311 ┆ 40.25        ┆ 2024-06-11 04:00:00 │\n",
       "│ AAA    ┆ 10550   ┆ 25.08        ┆ 2024-06-11 04:00:00 │\n",
       "│ AAAU   ┆ 1173193 ┆ 22.88        ┆ 2024-06-11 04:00:00 │\n",
       "│ AACG   ┆ 11808   ┆ 0.82         ┆ 2024-06-11 04:00:00 │\n",
       "└────────┴─────────┴──────────────┴─────────────────────┘"
      ]
     },
     "execution_count": 142,
     "metadata": {},
     "output_type": "execute_result"
    }
   ],
   "source": [
    "# Try it with a day_aggs to\n",
    "stock_day_aggr_df = pl.read_parquet(\"test_data/stocks_day_aggs.parquet\")\n",
    "stock_day_aggr_df = enhance_stock_parquet(stock_day_aggr_df)\n",
    "stock_day_aggr_df.head()"
   ]
  },
  {
   "cell_type": "code",
   "execution_count": 143,
   "id": "50a23ac4",
   "metadata": {},
   "outputs": [],
   "source": [
    "# Checkout stock trades (when you have the bandwidth to download)"
   ]
  },
  {
   "cell_type": "code",
   "execution_count": 144,
   "id": "452dc258",
   "metadata": {},
   "outputs": [
    {
     "data": {
      "text/html": [
       "<div><style>\n",
       ".dataframe > thead > tr,\n",
       ".dataframe > tbody > tr {\n",
       "  text-align: right;\n",
       "  white-space: pre-wrap;\n",
       "}\n",
       "</style>\n",
       "<small>shape: (5, 12)</small><table border=\"1\" class=\"dataframe\"><thead><tr><th>date</th><th>yield_1_month</th><th>yield_3_month</th><th>yield_6_month</th><th>yield_1_year</th><th>yield_2_year</th><th>yield_3_year</th><th>yield_5_year</th><th>yield_7_year</th><th>yield_10_year</th><th>yield_20_year</th><th>yield_30_year</th></tr><tr><td>str</td><td>f64</td><td>f64</td><td>null</td><td>f64</td><td>f64</td><td>null</td><td>f64</td><td>null</td><td>f64</td><td>null</td><td>f64</td></tr></thead><tbody><tr><td>&quot;1962-01-02&quot;</td><td>null</td><td>null</td><td>null</td><td>3.22</td><td>null</td><td>null</td><td>3.88</td><td>null</td><td>4.06</td><td>null</td><td>null</td></tr><tr><td>&quot;1962-01-03&quot;</td><td>null</td><td>null</td><td>null</td><td>3.24</td><td>null</td><td>null</td><td>3.87</td><td>null</td><td>4.03</td><td>null</td><td>null</td></tr><tr><td>&quot;1962-01-04&quot;</td><td>null</td><td>null</td><td>null</td><td>3.24</td><td>null</td><td>null</td><td>3.86</td><td>null</td><td>3.99</td><td>null</td><td>null</td></tr><tr><td>&quot;1962-01-05&quot;</td><td>null</td><td>null</td><td>null</td><td>3.26</td><td>null</td><td>null</td><td>3.89</td><td>null</td><td>4.02</td><td>null</td><td>null</td></tr><tr><td>&quot;1962-01-08&quot;</td><td>null</td><td>null</td><td>null</td><td>3.31</td><td>null</td><td>null</td><td>3.91</td><td>null</td><td>4.03</td><td>null</td><td>null</td></tr></tbody></table></div>"
      ],
      "text/plain": [
       "shape: (5, 12)\n",
       "┌───────────┬───────────┬───────────┬───────────┬───┬───────────┬───────────┬───────────┬──────────┐\n",
       "│ date      ┆ yield_1_m ┆ yield_3_m ┆ yield_6_m ┆ … ┆ yield_7_y ┆ yield_10_ ┆ yield_20_ ┆ yield_30 │\n",
       "│ ---       ┆ onth      ┆ onth      ┆ onth      ┆   ┆ ear       ┆ year      ┆ year      ┆ _year    │\n",
       "│ str       ┆ ---       ┆ ---       ┆ ---       ┆   ┆ ---       ┆ ---       ┆ ---       ┆ ---      │\n",
       "│           ┆ f64       ┆ f64       ┆ null      ┆   ┆ null      ┆ f64       ┆ null      ┆ f64      │\n",
       "╞═══════════╪═══════════╪═══════════╪═══════════╪═══╪═══════════╪═══════════╪═══════════╪══════════╡\n",
       "│ 1962-01-0 ┆ null      ┆ null      ┆ null      ┆ … ┆ null      ┆ 4.06      ┆ null      ┆ null     │\n",
       "│ 2         ┆           ┆           ┆           ┆   ┆           ┆           ┆           ┆          │\n",
       "│ 1962-01-0 ┆ null      ┆ null      ┆ null      ┆ … ┆ null      ┆ 4.03      ┆ null      ┆ null     │\n",
       "│ 3         ┆           ┆           ┆           ┆   ┆           ┆           ┆           ┆          │\n",
       "│ 1962-01-0 ┆ null      ┆ null      ┆ null      ┆ … ┆ null      ┆ 3.99      ┆ null      ┆ null     │\n",
       "│ 4         ┆           ┆           ┆           ┆   ┆           ┆           ┆           ┆          │\n",
       "│ 1962-01-0 ┆ null      ┆ null      ┆ null      ┆ … ┆ null      ┆ 4.02      ┆ null      ┆ null     │\n",
       "│ 5         ┆           ┆           ┆           ┆   ┆           ┆           ┆           ┆          │\n",
       "│ 1962-01-0 ┆ null      ┆ null      ┆ null      ┆ … ┆ null      ┆ 4.03      ┆ null      ┆ null     │\n",
       "│ 8         ┆           ┆           ┆           ┆   ┆           ┆           ┆           ┆          │\n",
       "└───────────┴───────────┴───────────┴───────────┴───┴───────────┴───────────┴───────────┴──────────┘"
      ]
     },
     "execution_count": 144,
     "metadata": {},
     "output_type": "execute_result"
    }
   ],
   "source": [
    "# Need to do the treasury data as well\n",
    "treasury_yields_df = pl.read_parquet('test_data/treasury_yields.parquet')\n",
    "treasury_yields_df.head()"
   ]
  },
  {
   "cell_type": "code",
   "execution_count": 145,
   "id": "d83035e6",
   "metadata": {},
   "outputs": [
    {
     "data": {
      "text/html": [
       "<div><style>\n",
       ".dataframe > thead > tr,\n",
       ".dataframe > tbody > tr {\n",
       "  text-align: right;\n",
       "  white-space: pre-wrap;\n",
       "}\n",
       "</style>\n",
       "<small>shape: (5, 12)</small><table border=\"1\" class=\"dataframe\"><thead><tr><th>date</th><th>yield_1_month</th><th>yield_3_month</th><th>yield_6_month</th><th>yield_1_year</th><th>yield_2_year</th><th>yield_3_year</th><th>yield_5_year</th><th>yield_7_year</th><th>yield_10_year</th><th>yield_20_year</th><th>yield_30_year</th></tr><tr><td>str</td><td>f64</td><td>f64</td><td>null</td><td>f64</td><td>f64</td><td>null</td><td>f64</td><td>null</td><td>f64</td><td>null</td><td>f64</td></tr></thead><tbody><tr><td>&quot;2025-08-08&quot;</td><td>4.48</td><td>4.32</td><td>null</td><td>3.93</td><td>3.76</td><td>null</td><td>3.84</td><td>null</td><td>4.27</td><td>null</td><td>4.85</td></tr><tr><td>&quot;2025-08-11&quot;</td><td>4.46</td><td>4.34</td><td>null</td><td>3.93</td><td>3.76</td><td>null</td><td>3.83</td><td>null</td><td>4.27</td><td>null</td><td>4.84</td></tr><tr><td>&quot;2025-08-12&quot;</td><td>4.44</td><td>4.33</td><td>null</td><td>3.9</td><td>3.72</td><td>null</td><td>3.83</td><td>null</td><td>4.29</td><td>null</td><td>4.88</td></tr><tr><td>&quot;2025-08-13&quot;</td><td>4.44</td><td>4.29</td><td>null</td><td>3.86</td><td>3.67</td><td>null</td><td>3.77</td><td>null</td><td>4.24</td><td>null</td><td>4.83</td></tr><tr><td>&quot;2025-08-14&quot;</td><td>4.48</td><td>4.3</td><td>null</td><td>3.91</td><td>3.74</td><td>null</td><td>3.82</td><td>null</td><td>4.29</td><td>null</td><td>4.88</td></tr></tbody></table></div>"
      ],
      "text/plain": [
       "shape: (5, 12)\n",
       "┌───────────┬───────────┬───────────┬───────────┬───┬───────────┬───────────┬───────────┬──────────┐\n",
       "│ date      ┆ yield_1_m ┆ yield_3_m ┆ yield_6_m ┆ … ┆ yield_7_y ┆ yield_10_ ┆ yield_20_ ┆ yield_30 │\n",
       "│ ---       ┆ onth      ┆ onth      ┆ onth      ┆   ┆ ear       ┆ year      ┆ year      ┆ _year    │\n",
       "│ str       ┆ ---       ┆ ---       ┆ ---       ┆   ┆ ---       ┆ ---       ┆ ---       ┆ ---      │\n",
       "│           ┆ f64       ┆ f64       ┆ null      ┆   ┆ null      ┆ f64       ┆ null      ┆ f64      │\n",
       "╞═══════════╪═══════════╪═══════════╪═══════════╪═══╪═══════════╪═══════════╪═══════════╪══════════╡\n",
       "│ 2025-08-0 ┆ 4.48      ┆ 4.32      ┆ null      ┆ … ┆ null      ┆ 4.27      ┆ null      ┆ 4.85     │\n",
       "│ 8         ┆           ┆           ┆           ┆   ┆           ┆           ┆           ┆          │\n",
       "│ 2025-08-1 ┆ 4.46      ┆ 4.34      ┆ null      ┆ … ┆ null      ┆ 4.27      ┆ null      ┆ 4.84     │\n",
       "│ 1         ┆           ┆           ┆           ┆   ┆           ┆           ┆           ┆          │\n",
       "│ 2025-08-1 ┆ 4.44      ┆ 4.33      ┆ null      ┆ … ┆ null      ┆ 4.29      ┆ null      ┆ 4.88     │\n",
       "│ 2         ┆           ┆           ┆           ┆   ┆           ┆           ┆           ┆          │\n",
       "│ 2025-08-1 ┆ 4.44      ┆ 4.29      ┆ null      ┆ … ┆ null      ┆ 4.24      ┆ null      ┆ 4.83     │\n",
       "│ 3         ┆           ┆           ┆           ┆   ┆           ┆           ┆           ┆          │\n",
       "│ 2025-08-1 ┆ 4.48      ┆ 4.3       ┆ null      ┆ … ┆ null      ┆ 4.29      ┆ null      ┆ 4.88     │\n",
       "│ 4         ┆           ┆           ┆           ┆   ┆           ┆           ┆           ┆          │\n",
       "└───────────┴───────────┴───────────┴───────────┴───┴───────────┴───────────┴───────────┴──────────┘"
      ]
     },
     "execution_count": 145,
     "metadata": {},
     "output_type": "execute_result"
    }
   ],
   "source": [
    "# Might be better to look at the tail since that is the data most used\n",
    "treasury_yields_df.tail()"
   ]
  },
  {
   "cell_type": "code",
   "execution_count": 146,
   "id": "c4cb0a82",
   "metadata": {},
   "outputs": [
    {
     "data": {
      "text/html": [
       "<div><style>\n",
       ".dataframe > thead > tr,\n",
       ".dataframe > tbody > tr {\n",
       "  text-align: right;\n",
       "  white-space: pre-wrap;\n",
       "}\n",
       "</style>\n",
       "<small>shape: (1, 12)</small><table border=\"1\" class=\"dataframe\"><thead><tr><th>date</th><th>yield_1_month</th><th>yield_3_month</th><th>yield_6_month</th><th>yield_1_year</th><th>yield_2_year</th><th>yield_3_year</th><th>yield_5_year</th><th>yield_7_year</th><th>yield_10_year</th><th>yield_20_year</th><th>yield_30_year</th></tr><tr><td>bool</td><td>bool</td><td>bool</td><td>bool</td><td>bool</td><td>bool</td><td>bool</td><td>bool</td><td>bool</td><td>bool</td><td>bool</td><td>bool</td></tr></thead><tbody><tr><td>true</td><td>true</td><td>true</td><td>true</td><td>true</td><td>true</td><td>true</td><td>true</td><td>true</td><td>true</td><td>true</td><td>true</td></tr></tbody></table></div>"
      ],
      "text/plain": [
       "shape: (1, 12)\n",
       "┌──────┬────────────┬────────────┬────────────┬───┬────────────┬───────────┬───────────┬───────────┐\n",
       "│ date ┆ yield_1_mo ┆ yield_3_mo ┆ yield_6_mo ┆ … ┆ yield_7_ye ┆ yield_10_ ┆ yield_20_ ┆ yield_30_ │\n",
       "│ ---  ┆ nth        ┆ nth        ┆ nth        ┆   ┆ ar         ┆ year      ┆ year      ┆ year      │\n",
       "│ bool ┆ ---        ┆ ---        ┆ ---        ┆   ┆ ---        ┆ ---       ┆ ---       ┆ ---       │\n",
       "│      ┆ bool       ┆ bool       ┆ bool       ┆   ┆ bool       ┆ bool      ┆ bool      ┆ bool      │\n",
       "╞══════╪════════════╪════════════╪════════════╪═══╪════════════╪═══════════╪═══════════╪═══════════╡\n",
       "│ true ┆ true       ┆ true       ┆ true       ┆ … ┆ true       ┆ true      ┆ true      ┆ true      │\n",
       "└──────┴────────────┴────────────┴────────────┴───┴────────────┴───────────┴───────────┴───────────┘"
      ]
     },
     "execution_count": 146,
     "metadata": {},
     "output_type": "execute_result"
    }
   ],
   "source": [
    "# null values stand out so we need to fill those, ideally with the last valued column, lets see if this works\n",
    "before_fill_df = treasury_yields_df.null_count()\n",
    "nulll_filled_df = treasury_yields_df.with_columns(\n",
    "    pl.col(\"yield_6_month\").fill_null(strategy=\"forward\").alias(\"yield_6_month\")\n",
    ")\n",
    "after_fill_df = nulll_filled_df.null_count()\n",
    "before_fill_df == after_fill_df"
   ]
  },
  {
   "cell_type": "code",
   "execution_count": 147,
   "id": "bfbd79e4",
   "metadata": {},
   "outputs": [
    {
     "data": {
      "text/html": [
       "<div><style>\n",
       ".dataframe > thead > tr,\n",
       ".dataframe > tbody > tr {\n",
       "  text-align: right;\n",
       "  white-space: pre-wrap;\n",
       "}\n",
       "</style>\n",
       "<small>shape: (1, 12)</small><table border=\"1\" class=\"dataframe\"><thead><tr><th>date</th><th>yield_1_month</th><th>yield_3_month</th><th>yield_6_month</th><th>yield_1_year</th><th>yield_2_year</th><th>yield_3_year</th><th>yield_5_year</th><th>yield_7_year</th><th>yield_10_year</th><th>yield_20_year</th><th>yield_30_year</th></tr><tr><td>bool</td><td>bool</td><td>bool</td><td>bool</td><td>bool</td><td>bool</td><td>bool</td><td>bool</td><td>bool</td><td>bool</td><td>bool</td><td>bool</td></tr></thead><tbody><tr><td>true</td><td>true</td><td>true</td><td>true</td><td>true</td><td>true</td><td>true</td><td>true</td><td>true</td><td>true</td><td>true</td><td>true</td></tr></tbody></table></div>"
      ],
      "text/plain": [
       "shape: (1, 12)\n",
       "┌──────┬────────────┬────────────┬────────────┬───┬────────────┬───────────┬───────────┬───────────┐\n",
       "│ date ┆ yield_1_mo ┆ yield_3_mo ┆ yield_6_mo ┆ … ┆ yield_7_ye ┆ yield_10_ ┆ yield_20_ ┆ yield_30_ │\n",
       "│ ---  ┆ nth        ┆ nth        ┆ nth        ┆   ┆ ar         ┆ year      ┆ year      ┆ year      │\n",
       "│ bool ┆ ---        ┆ ---        ┆ ---        ┆   ┆ ---        ┆ ---       ┆ ---       ┆ ---       │\n",
       "│      ┆ bool       ┆ bool       ┆ bool       ┆   ┆ bool       ┆ bool      ┆ bool      ┆ bool      │\n",
       "╞══════╪════════════╪════════════╪════════════╪═══╪════════════╪═══════════╪═══════════╪═══════════╡\n",
       "│ true ┆ true       ┆ true       ┆ true       ┆ … ┆ true       ┆ true      ┆ true      ┆ true      │\n",
       "└──────┴────────────┴────────────┴────────────┴───┴────────────┴───────────┴───────────┴───────────┘"
      ]
     },
     "execution_count": 147,
     "metadata": {},
     "output_type": "execute_result"
    }
   ],
   "source": [
    "# I guess none for the 6 month? I'll apply to all to see what happens\n",
    "before_fill_df = treasury_yields_df.null_count()\n",
    "treasury_yields_df = treasury_yields_df.with_columns(\n",
    "    pl.col(\"yield_1_month\").fill_null(strategy=\"forward\").alias(\"yield_1_month\"),\n",
    "    pl.col(\"yield_3_month\").fill_null(strategy=\"forward\").alias(\"yield_3_month\"),\n",
    "    pl.col(\"yield_6_month\").fill_null(strategy=\"forward\").alias(\"yield_6_month\"),\n",
    "    pl.col(\"yield_1_year\").fill_null(strategy=\"forward\").alias(\"yield_1_year\"),\n",
    "    pl.col(\"yield_2_year\").fill_null(strategy=\"forward\").alias(\"yield_2_year\"),\n",
    "    pl.col(\"yield_3_year\").fill_null(strategy=\"forward\").alias(\"yield_3_year\"),\n",
    "    pl.col(\"yield_5_year\").fill_null(strategy=\"forward\").alias(\"yield_5_year\"),\n",
    "    pl.col(\"yield_7_year\").fill_null(strategy=\"forward\").alias(\"yield_7_year\"),\n",
    "    pl.col(\"yield_10_year\").fill_null(strategy=\"forward\").alias(\"yield_10_year\"),\n",
    "    pl.col(\"yield_20_year\").fill_null(strategy=\"forward\").alias(\"yield_20_year\"),\n",
    "    pl.col(\"yield_30_year\").fill_null(strategy=\"forward\").alias(\"yield_30_year\"),\n",
    ")\n",
    "after_fill_df = nulll_filled_df.null_count()\n",
    "before_fill_df == after_fill_df"
   ]
  },
  {
   "cell_type": "code",
   "execution_count": 148,
   "id": "d6b32046",
   "metadata": {},
   "outputs": [
    {
     "data": {
      "text/html": [
       "<div><style>\n",
       ".dataframe > thead > tr,\n",
       ".dataframe > tbody > tr {\n",
       "  text-align: right;\n",
       "  white-space: pre-wrap;\n",
       "}\n",
       "</style>\n",
       "<small>shape: (5, 8)</small><table border=\"1\" class=\"dataframe\"><thead><tr><th>date</th><th>1m</th><th>3m</th><th>1y</th><th>2y</th><th>5y</th><th>10y</th><th>30y</th></tr><tr><td>str</td><td>f64</td><td>f64</td><td>f64</td><td>f64</td><td>f64</td><td>f64</td><td>f64</td></tr></thead><tbody><tr><td>&quot;2025-08-08&quot;</td><td>4.48</td><td>4.32</td><td>3.93</td><td>3.76</td><td>3.84</td><td>4.27</td><td>4.85</td></tr><tr><td>&quot;2025-08-11&quot;</td><td>4.46</td><td>4.34</td><td>3.93</td><td>3.76</td><td>3.83</td><td>4.27</td><td>4.84</td></tr><tr><td>&quot;2025-08-12&quot;</td><td>4.44</td><td>4.33</td><td>3.9</td><td>3.72</td><td>3.83</td><td>4.29</td><td>4.88</td></tr><tr><td>&quot;2025-08-13&quot;</td><td>4.44</td><td>4.29</td><td>3.86</td><td>3.67</td><td>3.77</td><td>4.24</td><td>4.83</td></tr><tr><td>&quot;2025-08-14&quot;</td><td>4.48</td><td>4.3</td><td>3.91</td><td>3.74</td><td>3.82</td><td>4.29</td><td>4.88</td></tr></tbody></table></div>"
      ],
      "text/plain": [
       "shape: (5, 8)\n",
       "┌────────────┬──────┬──────┬──────┬──────┬──────┬──────┬──────┐\n",
       "│ date       ┆ 1m   ┆ 3m   ┆ 1y   ┆ 2y   ┆ 5y   ┆ 10y  ┆ 30y  │\n",
       "│ ---        ┆ ---  ┆ ---  ┆ ---  ┆ ---  ┆ ---  ┆ ---  ┆ ---  │\n",
       "│ str        ┆ f64  ┆ f64  ┆ f64  ┆ f64  ┆ f64  ┆ f64  ┆ f64  │\n",
       "╞════════════╪══════╪══════╪══════╪══════╪══════╪══════╪══════╡\n",
       "│ 2025-08-08 ┆ 4.48 ┆ 4.32 ┆ 3.93 ┆ 3.76 ┆ 3.84 ┆ 4.27 ┆ 4.85 │\n",
       "│ 2025-08-11 ┆ 4.46 ┆ 4.34 ┆ 3.93 ┆ 3.76 ┆ 3.83 ┆ 4.27 ┆ 4.84 │\n",
       "│ 2025-08-12 ┆ 4.44 ┆ 4.33 ┆ 3.9  ┆ 3.72 ┆ 3.83 ┆ 4.29 ┆ 4.88 │\n",
       "│ 2025-08-13 ┆ 4.44 ┆ 4.29 ┆ 3.86 ┆ 3.67 ┆ 3.77 ┆ 4.24 ┆ 4.83 │\n",
       "│ 2025-08-14 ┆ 4.48 ┆ 4.3  ┆ 3.91 ┆ 3.74 ┆ 3.82 ┆ 4.29 ┆ 4.88 │\n",
       "└────────────┴──────┴──────┴──────┴──────┴──────┴──────┴──────┘"
      ]
     },
     "execution_count": 148,
     "metadata": {},
     "output_type": "execute_result"
    }
   ],
   "source": [
    "# So there are no 6m, 3y, 7y, 20y so we'll just select the others out and give them better names\n",
    "treasury_yields_df = treasury_yields_df.select(['date', 'yield_1_month', 'yield_3_month', 'yield_1_year', 'yield_2_year', 'yield_5_year', 'yield_10_year', 'yield_30_year'])\n",
    "treasury_yields_df = treasury_yields_df.rename({'yield_1_month': '1m', 'yield_3_month': '3m', 'yield_1_year': '1y', 'yield_2_year': '2y', 'yield_5_year': '5y', 'yield_10_year': '10y', 'yield_30_year': '30y'})\n",
    "treasury_yields_df.tail()"
   ]
  },
  {
   "cell_type": "code",
   "execution_count": 149,
   "id": "d428cc72",
   "metadata": {},
   "outputs": [
    {
     "data": {
      "text/html": [
       "<div><style>\n",
       ".dataframe > thead > tr,\n",
       ".dataframe > tbody > tr {\n",
       "  text-align: right;\n",
       "  white-space: pre-wrap;\n",
       "}\n",
       "</style>\n",
       "<small>shape: (5, 8)</small><table border=\"1\" class=\"dataframe\"><thead><tr><th>date</th><th>1m</th><th>3m</th><th>1y</th><th>2y</th><th>5y</th><th>10y</th><th>30y</th></tr><tr><td>datetime[ns]</td><td>decimal[*,6]</td><td>decimal[*,6]</td><td>decimal[*,6]</td><td>decimal[*,6]</td><td>decimal[*,6]</td><td>decimal[*,6]</td><td>decimal[*,6]</td></tr></thead><tbody><tr><td>2025-08-08 00:00:00</td><td>0.044800</td><td>0.043200</td><td>0.039300</td><td>0.037599</td><td>0.038400</td><td>0.042699</td><td>0.048499</td></tr><tr><td>2025-08-11 00:00:00</td><td>0.044600</td><td>0.043400</td><td>0.039300</td><td>0.037599</td><td>0.038300</td><td>0.042699</td><td>0.048400</td></tr><tr><td>2025-08-12 00:00:00</td><td>0.044400</td><td>0.043300</td><td>0.039000</td><td>0.037200</td><td>0.038300</td><td>0.042900</td><td>0.048799</td></tr><tr><td>2025-08-13 00:00:00</td><td>0.044400</td><td>0.042900</td><td>0.038599</td><td>0.036700</td><td>0.037700</td><td>0.042400</td><td>0.048300</td></tr><tr><td>2025-08-14 00:00:00</td><td>0.044800</td><td>0.043000</td><td>0.039100</td><td>0.037400</td><td>0.038200</td><td>0.042900</td><td>0.048799</td></tr></tbody></table></div>"
      ],
      "text/plain": [
       "shape: (5, 8)\n",
       "┌────────────┬────────────┬────────────┬───────────┬───────────┬───────────┬───────────┬───────────┐\n",
       "│ date       ┆ 1m         ┆ 3m         ┆ 1y        ┆ 2y        ┆ 5y        ┆ 10y       ┆ 30y       │\n",
       "│ ---        ┆ ---        ┆ ---        ┆ ---       ┆ ---       ┆ ---       ┆ ---       ┆ ---       │\n",
       "│ datetime[n ┆ decimal[*, ┆ decimal[*, ┆ decimal[* ┆ decimal[* ┆ decimal[* ┆ decimal[* ┆ decimal[* │\n",
       "│ s]         ┆ 6]         ┆ 6]         ┆ ,6]       ┆ ,6]       ┆ ,6]       ┆ ,6]       ┆ ,6]       │\n",
       "╞════════════╪════════════╪════════════╪═══════════╪═══════════╪═══════════╪═══════════╪═══════════╡\n",
       "│ 2025-08-08 ┆ 0.044800   ┆ 0.043200   ┆ 0.039300  ┆ 0.037599  ┆ 0.038400  ┆ 0.042699  ┆ 0.048499  │\n",
       "│ 00:00:00   ┆            ┆            ┆           ┆           ┆           ┆           ┆           │\n",
       "│ 2025-08-11 ┆ 0.044600   ┆ 0.043400   ┆ 0.039300  ┆ 0.037599  ┆ 0.038300  ┆ 0.042699  ┆ 0.048400  │\n",
       "│ 00:00:00   ┆            ┆            ┆           ┆           ┆           ┆           ┆           │\n",
       "│ 2025-08-12 ┆ 0.044400   ┆ 0.043300   ┆ 0.039000  ┆ 0.037200  ┆ 0.038300  ┆ 0.042900  ┆ 0.048799  │\n",
       "│ 00:00:00   ┆            ┆            ┆           ┆           ┆           ┆           ┆           │\n",
       "│ 2025-08-13 ┆ 0.044400   ┆ 0.042900   ┆ 0.038599  ┆ 0.036700  ┆ 0.037700  ┆ 0.042400  ┆ 0.048300  │\n",
       "│ 00:00:00   ┆            ┆            ┆           ┆           ┆           ┆           ┆           │\n",
       "│ 2025-08-14 ┆ 0.044800   ┆ 0.043000   ┆ 0.039100  ┆ 0.037400  ┆ 0.038200  ┆ 0.042900  ┆ 0.048799  │\n",
       "│ 00:00:00   ┆            ┆            ┆           ┆           ┆           ┆           ┆           │\n",
       "└────────────┴────────────┴────────────┴───────────┴───────────┴───────────┴───────────┴───────────┘"
      ]
     },
     "execution_count": 149,
     "metadata": {},
     "output_type": "execute_result"
    }
   ],
   "source": [
    "# Better, now to do some conversions\n",
    "treasury_yields_df = treasury_yields_df.with_columns(\n",
    "    pl.col('date').str.to_datetime(time_unit=\"ns\").alias('date'),\n",
    "    pl.col('1m').map_elements(lambda ir: float(ir) / 100.0, return_dtype=pl.Float64).cast(pl.Decimal(scale=6)).alias(\"1m\"),\n",
    "    pl.col('3m').map_elements(lambda ir: float(ir) / 100.0, return_dtype=pl.Float64).cast(pl.Decimal(scale=6)).alias(\"3m\"),\n",
    "    pl.col('1y').map_elements(lambda ir: float(ir) / 100.0, return_dtype=pl.Float64).cast(pl.Decimal(scale=6)).alias(\"1y\"),\n",
    "    pl.col('2y').map_elements(lambda ir: float(ir) / 100.0, return_dtype=pl.Float64).cast(pl.Decimal(scale=6)).alias(\"2y\"),\n",
    "    pl.col('5y').map_elements(lambda ir: float(ir) / 100.0, return_dtype=pl.Float64).cast(pl.Decimal(scale=6)).alias(\"5y\"),\n",
    "    pl.col('10y').map_elements(lambda ir: float(ir) / 100.0, return_dtype=pl.Float64).cast(pl.Decimal(scale=6)).alias(\"10y\"),\n",
    "    pl.col('30y').map_elements(lambda ir: float(ir) / 100.0, return_dtype=pl.Float64).cast(pl.Decimal(scale=6)).alias(\"30y\"),\n",
    ")\n",
    "treasury_yields_df.tail()"
   ]
  },
  {
   "cell_type": "code",
   "execution_count": 150,
   "id": "c192643d",
   "metadata": {},
   "outputs": [
    {
     "data": {
      "text/html": [
       "<div><style>\n",
       ".dataframe > thead > tr,\n",
       ".dataframe > tbody > tr {\n",
       "  text-align: right;\n",
       "  white-space: pre-wrap;\n",
       "}\n",
       "</style>\n",
       "<small>shape: (1, 8)</small><table border=\"1\" class=\"dataframe\"><thead><tr><th>date</th><th>1m</th><th>3m</th><th>1y</th><th>2y</th><th>5y</th><th>10y</th><th>30y</th></tr><tr><td>u32</td><td>u32</td><td>u32</td><td>u32</td><td>u32</td><td>u32</td><td>u32</td><td>u32</td></tr></thead><tbody><tr><td>0</td><td>9878</td><td>4901</td><td>0</td><td>3592</td><td>0</td><td>0</td><td>3770</td></tr></tbody></table></div>"
      ],
      "text/plain": [
       "shape: (1, 8)\n",
       "┌──────┬──────┬──────┬─────┬──────┬─────┬─────┬──────┐\n",
       "│ date ┆ 1m   ┆ 3m   ┆ 1y  ┆ 2y   ┆ 5y  ┆ 10y ┆ 30y  │\n",
       "│ ---  ┆ ---  ┆ ---  ┆ --- ┆ ---  ┆ --- ┆ --- ┆ ---  │\n",
       "│ u32  ┆ u32  ┆ u32  ┆ u32 ┆ u32  ┆ u32 ┆ u32 ┆ u32  │\n",
       "╞══════╪══════╪══════╪═════╪══════╪═════╪═════╪══════╡\n",
       "│ 0    ┆ 9878 ┆ 4901 ┆ 0   ┆ 3592 ┆ 0   ┆ 0   ┆ 3770 │\n",
       "└──────┴──────┴──────┴─────┴──────┴─────┴─────┴──────┘"
      ]
     },
     "execution_count": 150,
     "metadata": {},
     "output_type": "execute_result"
    }
   ],
   "source": [
    "# Check for nulls real quick\n",
    "treasury_yields_df.null_count()"
   ]
  },
  {
   "cell_type": "code",
   "execution_count": 151,
   "id": "956440d2",
   "metadata": {},
   "outputs": [
    {
     "data": {
      "text/html": [
       "<div><style>\n",
       ".dataframe > thead > tr,\n",
       ".dataframe > tbody > tr {\n",
       "  text-align: right;\n",
       "  white-space: pre-wrap;\n",
       "}\n",
       "</style>\n",
       "<small>shape: (1, 8)</small><table border=\"1\" class=\"dataframe\"><thead><tr><th>date</th><th>1m</th><th>3m</th><th>1y</th><th>2y</th><th>5y</th><th>10y</th><th>30y</th></tr><tr><td>u32</td><td>u32</td><td>u32</td><td>u32</td><td>u32</td><td>u32</td><td>u32</td><td>u32</td></tr></thead><tbody><tr><td>0</td><td>0</td><td>0</td><td>0</td><td>0</td><td>0</td><td>0</td><td>0</td></tr></tbody></table></div>"
      ],
      "text/plain": [
       "shape: (1, 8)\n",
       "┌──────┬─────┬─────┬─────┬─────┬─────┬─────┬─────┐\n",
       "│ date ┆ 1m  ┆ 3m  ┆ 1y  ┆ 2y  ┆ 5y  ┆ 10y ┆ 30y │\n",
       "│ ---  ┆ --- ┆ --- ┆ --- ┆ --- ┆ --- ┆ --- ┆ --- │\n",
       "│ u32  ┆ u32 ┆ u32 ┆ u32 ┆ u32 ┆ u32 ┆ u32 ┆ u32 │\n",
       "╞══════╪═════╪═════╪═════╪═════╪═════╪═════╪═════╡\n",
       "│ 0    ┆ 0   ┆ 0   ┆ 0   ┆ 0   ┆ 0   ┆ 0   ┆ 0   │\n",
       "└──────┴─────┴─────┴─────┴─────┴─────┴─────┴─────┘"
      ]
     },
     "execution_count": 151,
     "metadata": {},
     "output_type": "execute_result"
    }
   ],
   "source": [
    "# Not good, going to try to fill those with just the median value for dev work\n",
    "treasury_yields_df = treasury_yields_df.with_columns(\n",
    "    pl.col('1m').fill_null(pl.col('1m').median()).alias(\"1m\"),\n",
    "    pl.col('3m').fill_null(pl.col('3m').median()).alias(\"3m\"),\n",
    "    pl.col('1y').fill_null(pl.col('1y').median()).alias(\"1y\"),\n",
    "    pl.col('2y').fill_null(pl.col('2y').median()).alias(\"2y\"),\n",
    "    pl.col('5y').fill_null(pl.col('5y').median()).alias(\"5y\"),\n",
    "    pl.col('10y').fill_null(pl.col('10y').median()).alias(\"10y\"),\n",
    "    pl.col('30y').fill_null(pl.col('30y').median()).alias(\"30y\")\n",
    ")\n",
    "treasury_yields_df.null_count()"
   ]
  },
  {
   "cell_type": "code",
   "execution_count": 152,
   "id": "29ad3920",
   "metadata": {},
   "outputs": [
    {
     "data": {
      "text/html": [
       "<div><style>\n",
       ".dataframe > thead > tr,\n",
       ".dataframe > tbody > tr {\n",
       "  text-align: right;\n",
       "  white-space: pre-wrap;\n",
       "}\n",
       "</style>\n",
       "<small>shape: (5, 8)</small><table border=\"1\" class=\"dataframe\"><thead><tr><th>date</th><th>1m</th><th>3m</th><th>1y</th><th>2y</th><th>5y</th><th>10y</th><th>30y</th></tr><tr><td>datetime[ns]</td><td>f64</td><td>f64</td><td>f64</td><td>f64</td><td>f64</td><td>f64</td><td>f64</td></tr></thead><tbody><tr><td>2025-08-08 00:00:00</td><td>0.0448</td><td>0.0432</td><td>0.0393</td><td>0.037599</td><td>0.0384</td><td>0.042699</td><td>0.048499</td></tr><tr><td>2025-08-11 00:00:00</td><td>0.0446</td><td>0.0434</td><td>0.0393</td><td>0.037599</td><td>0.0383</td><td>0.042699</td><td>0.0484</td></tr><tr><td>2025-08-12 00:00:00</td><td>0.0444</td><td>0.0433</td><td>0.039</td><td>0.0372</td><td>0.0383</td><td>0.0429</td><td>0.048799</td></tr><tr><td>2025-08-13 00:00:00</td><td>0.0444</td><td>0.0429</td><td>0.038599</td><td>0.0367</td><td>0.0377</td><td>0.0424</td><td>0.0483</td></tr><tr><td>2025-08-14 00:00:00</td><td>0.0448</td><td>0.043</td><td>0.0391</td><td>0.0374</td><td>0.0382</td><td>0.0429</td><td>0.048799</td></tr></tbody></table></div>"
      ],
      "text/plain": [
       "shape: (5, 8)\n",
       "┌─────────────────────┬────────┬────────┬──────────┬──────────┬────────┬──────────┬──────────┐\n",
       "│ date                ┆ 1m     ┆ 3m     ┆ 1y       ┆ 2y       ┆ 5y     ┆ 10y      ┆ 30y      │\n",
       "│ ---                 ┆ ---    ┆ ---    ┆ ---      ┆ ---      ┆ ---    ┆ ---      ┆ ---      │\n",
       "│ datetime[ns]        ┆ f64    ┆ f64    ┆ f64      ┆ f64      ┆ f64    ┆ f64      ┆ f64      │\n",
       "╞═════════════════════╪════════╪════════╪══════════╪══════════╪════════╪══════════╪══════════╡\n",
       "│ 2025-08-08 00:00:00 ┆ 0.0448 ┆ 0.0432 ┆ 0.0393   ┆ 0.037599 ┆ 0.0384 ┆ 0.042699 ┆ 0.048499 │\n",
       "│ 2025-08-11 00:00:00 ┆ 0.0446 ┆ 0.0434 ┆ 0.0393   ┆ 0.037599 ┆ 0.0383 ┆ 0.042699 ┆ 0.0484   │\n",
       "│ 2025-08-12 00:00:00 ┆ 0.0444 ┆ 0.0433 ┆ 0.039    ┆ 0.0372   ┆ 0.0383 ┆ 0.0429   ┆ 0.048799 │\n",
       "│ 2025-08-13 00:00:00 ┆ 0.0444 ┆ 0.0429 ┆ 0.038599 ┆ 0.0367   ┆ 0.0377 ┆ 0.0424   ┆ 0.0483   │\n",
       "│ 2025-08-14 00:00:00 ┆ 0.0448 ┆ 0.043  ┆ 0.0391   ┆ 0.0374   ┆ 0.0382 ┆ 0.0429   ┆ 0.048799 │\n",
       "└─────────────────────┴────────┴────────┴──────────┴──────────┴────────┴──────────┴──────────┘"
      ]
     },
     "execution_count": 152,
     "metadata": {},
     "output_type": "execute_result"
    }
   ],
   "source": [
    "# Putting it all together\n",
    "def enhance_treasury_parquet(treasury_yields_df: pl.DataFrame) -> pl.DataFrame:\n",
    "    treasury_yields_df = treasury_yields_df.select(['date', 'yield_1_month', 'yield_3_month', 'yield_1_year', 'yield_2_year', 'yield_5_year', 'yield_10_year', 'yield_30_year'])\n",
    "    treasury_yields_df = treasury_yields_df.rename({'yield_1_month': '1m', 'yield_3_month': '3m', 'yield_1_year': '1y', 'yield_2_year': '2y', 'yield_5_year': '5y', 'yield_10_year': '10y', 'yield_30_year': '30y'})\n",
    "    treasury_yields_df = treasury_yields_df.with_columns(\n",
    "        pl.col('date').str.to_datetime(time_unit=\"ns\").alias('date'),\n",
    "        pl.col('1m').map_elements(lambda ir: float(ir) / 100.0, return_dtype=pl.Float64).cast(pl.Decimal(scale=6)).alias(\"1m\"),\n",
    "        pl.col('3m').map_elements(lambda ir: float(ir) / 100.0, return_dtype=pl.Float64).cast(pl.Decimal(scale=6)).alias(\"3m\"),\n",
    "        pl.col('1y').map_elements(lambda ir: float(ir) / 100.0, return_dtype=pl.Float64).cast(pl.Decimal(scale=6)).alias(\"1y\"),\n",
    "        pl.col('2y').map_elements(lambda ir: float(ir) / 100.0, return_dtype=pl.Float64).cast(pl.Decimal(scale=6)).alias(\"2y\"),\n",
    "        pl.col('5y').map_elements(lambda ir: float(ir) / 100.0, return_dtype=pl.Float64).cast(pl.Decimal(scale=6)).alias(\"5y\"),\n",
    "        pl.col('10y').map_elements(lambda ir: float(ir) / 100.0, return_dtype=pl.Float64).cast(pl.Decimal(scale=6)).alias(\"10y\"),\n",
    "        pl.col('30y').map_elements(lambda ir: float(ir) / 100.0, return_dtype=pl.Float64).cast(pl.Decimal(scale=6)).alias(\"30y\"),\n",
    "    )\n",
    "    treasury_yields_df = treasury_yields_df.with_columns(\n",
    "        pl.col('1m').fill_null(pl.col('1m').median()).alias(\"1m\"),\n",
    "        pl.col('3m').fill_null(pl.col('3m').median()).alias(\"3m\"),\n",
    "        pl.col('1y').fill_null(pl.col('1y').median()).alias(\"1y\"),\n",
    "        pl.col('2y').fill_null(pl.col('2y').median()).alias(\"2y\"),\n",
    "        pl.col('5y').fill_null(pl.col('5y').median()).alias(\"5y\"),\n",
    "        pl.col('10y').fill_null(pl.col('10y').median()).alias(\"10y\"),\n",
    "        pl.col('30y').fill_null(pl.col('30y').median()).alias(\"30y\")\n",
    "    )\n",
    "    return treasury_yields_df\n",
    "\n",
    "enhanced_treasury_df = enhance_treasury_parquet(pl.read_parquet('test_data/treasury_yields.parquet'))\n",
    "enhanced_treasury_df.tail() "
   ]
  },
  {
   "cell_type": "code",
   "execution_count": 153,
   "id": "ca173a17",
   "metadata": {},
   "outputs": [
    {
     "data": {
      "text/html": [
       "<div><style>\n",
       ".dataframe > thead > tr,\n",
       ".dataframe > tbody > tr {\n",
       "  text-align: right;\n",
       "  white-space: pre-wrap;\n",
       "}\n",
       "</style>\n",
       "<small>shape: (1, 8)</small><table border=\"1\" class=\"dataframe\"><thead><tr><th>date</th><th>1m</th><th>3m</th><th>1y</th><th>2y</th><th>5y</th><th>10y</th><th>30y</th></tr><tr><td>u32</td><td>u32</td><td>u32</td><td>u32</td><td>u32</td><td>u32</td><td>u32</td><td>u32</td></tr></thead><tbody><tr><td>0</td><td>0</td><td>0</td><td>0</td><td>0</td><td>0</td><td>0</td><td>0</td></tr></tbody></table></div>"
      ],
      "text/plain": [
       "shape: (1, 8)\n",
       "┌──────┬─────┬─────┬─────┬─────┬─────┬─────┬─────┐\n",
       "│ date ┆ 1m  ┆ 3m  ┆ 1y  ┆ 2y  ┆ 5y  ┆ 10y ┆ 30y │\n",
       "│ ---  ┆ --- ┆ --- ┆ --- ┆ --- ┆ --- ┆ --- ┆ --- │\n",
       "│ u32  ┆ u32 ┆ u32 ┆ u32 ┆ u32 ┆ u32 ┆ u32 ┆ u32 │\n",
       "╞══════╪═════╪═════╪═════╪═════╪═════╪═════╪═════╡\n",
       "│ 0    ┆ 0   ┆ 0   ┆ 0   ┆ 0   ┆ 0   ┆ 0   ┆ 0   │\n",
       "└──────┴─────┴─────┴─────┴─────┴─────┴─────┴─────┘"
      ]
     },
     "execution_count": 153,
     "metadata": {},
     "output_type": "execute_result"
    }
   ],
   "source": [
    "# null check\n",
    "enhanced_treasury_df.null_count()"
   ]
  }
 ],
 "metadata": {
  "kernelspec": {
   "display_name": ".venv (3.13.5)",
   "language": "python",
   "name": "python3"
  },
  "language_info": {
   "codemirror_mode": {
    "name": "ipython",
    "version": 3
   },
   "file_extension": ".py",
   "mimetype": "text/x-python",
   "name": "python",
   "nbconvert_exporter": "python",
   "pygments_lexer": "ipython3",
   "version": "3.13.5"
  }
 },
 "nbformat": 4,
 "nbformat_minor": 5
}
