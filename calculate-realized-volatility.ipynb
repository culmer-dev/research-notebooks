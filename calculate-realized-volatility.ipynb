{
 "cells": [
  {
   "cell_type": "code",
   "execution_count": 1,
   "id": "316a95dd",
   "metadata": {},
   "outputs": [
    {
     "data": {
      "text/html": [
       "<div><style>\n",
       ".dataframe > thead > tr,\n",
       ".dataframe > tbody > tr {\n",
       "  text-align: right;\n",
       "  white-space: pre-wrap;\n",
       "}\n",
       "</style>\n",
       "<small>shape: (5, 8)</small><table border=\"1\" class=\"dataframe\"><thead><tr><th>ticker</th><th>volume</th><th>open</th><th>close</th><th>high</th><th>low</th><th>window_start</th><th>transactions</th></tr><tr><td>str</td><td>i64</td><td>f64</td><td>f64</td><td>f64</td><td>f64</td><td>i64</td><td>i64</td></tr></thead><tbody><tr><td>&quot;A&quot;</td><td>2310830</td><td>135.0</td><td>134.69</td><td>136.01</td><td>134.29</td><td>1719288000000000000</td><td>32890</td></tr><tr><td>&quot;AA&quot;</td><td>3066249</td><td>40.1</td><td>39.94</td><td>40.19</td><td>39.17</td><td>1719288000000000000</td><td>33059</td></tr><tr><td>&quot;AAA&quot;</td><td>3046</td><td>25.1554</td><td>25.15</td><td>25.17</td><td>25.12</td><td>1719288000000000000</td><td>47</td></tr><tr><td>&quot;AAAU&quot;</td><td>1266888</td><td>23.0</td><td>22.95</td><td>23.03</td><td>22.91</td><td>1719288000000000000</td><td>2190</td></tr><tr><td>&quot;AACG&quot;</td><td>6136</td><td>0.824</td><td>0.8345</td><td>0.8345</td><td>0.824</td><td>1719288000000000000</td><td>77</td></tr></tbody></table></div>"
      ],
      "text/plain": [
       "shape: (5, 8)\n",
       "┌────────┬─────────┬─────────┬────────┬────────┬────────┬─────────────────────┬──────────────┐\n",
       "│ ticker ┆ volume  ┆ open    ┆ close  ┆ high   ┆ low    ┆ window_start        ┆ transactions │\n",
       "│ ---    ┆ ---     ┆ ---     ┆ ---    ┆ ---    ┆ ---    ┆ ---                 ┆ ---          │\n",
       "│ str    ┆ i64     ┆ f64     ┆ f64    ┆ f64    ┆ f64    ┆ i64                 ┆ i64          │\n",
       "╞════════╪═════════╪═════════╪════════╪════════╪════════╪═════════════════════╪══════════════╡\n",
       "│ A      ┆ 2310830 ┆ 135.0   ┆ 134.69 ┆ 136.01 ┆ 134.29 ┆ 1719288000000000000 ┆ 32890        │\n",
       "│ AA     ┆ 3066249 ┆ 40.1    ┆ 39.94  ┆ 40.19  ┆ 39.17  ┆ 1719288000000000000 ┆ 33059        │\n",
       "│ AAA    ┆ 3046    ┆ 25.1554 ┆ 25.15  ┆ 25.17  ┆ 25.12  ┆ 1719288000000000000 ┆ 47           │\n",
       "│ AAAU   ┆ 1266888 ┆ 23.0    ┆ 22.95  ┆ 23.03  ┆ 22.91  ┆ 1719288000000000000 ┆ 2190         │\n",
       "│ AACG   ┆ 6136    ┆ 0.824   ┆ 0.8345 ┆ 0.8345 ┆ 0.824  ┆ 1719288000000000000 ┆ 77           │\n",
       "└────────┴─────────┴─────────┴────────┴────────┴────────┴─────────────────────┴──────────────┘"
      ]
     },
     "execution_count": 1,
     "metadata": {},
     "output_type": "execute_result"
    }
   ],
   "source": [
    "import polars as pl\n",
    "import glob\n",
    "import os\n",
    "\n",
    "stocks_df = pl.read_parquet(glob.glob(os.path.join(\"test_data/stock_agg_month\", \"**\", \"*.parquet\"), recursive=True))\n",
    "stocks_df.head()"
   ]
  },
  {
   "cell_type": "code",
   "execution_count": 2,
   "id": "f44a5bda",
   "metadata": {},
   "outputs": [
    {
     "ename": "ValueError",
     "evalue": "`mapping_strategy` must be one of {'group_to_rows', 'join', 'explode'}, got sliding_window",
     "output_type": "error",
     "traceback": [
      "\u001b[31m---------------------------------------------------------------------------\u001b[39m",
      "\u001b[31mValueError\u001b[39m                                Traceback (most recent call last)",
      "\u001b[32m/var/folders/fb/5cqcjc6s6cd5gq0md5svmnlm0000gn/T/ipykernel_66072/3265221016.py\u001b[39m in \u001b[36m?\u001b[39m\u001b[34m()\u001b[39m\n\u001b[32m     20\u001b[39m     \u001b[38;5;66;03m# Calculate rolling RV rank over specified window\u001b[39;00m\n\u001b[32m     21\u001b[39m     \u001b[38;5;66;03m# Shows percentile rank of current RV vs last N days for each ticker\u001b[39;00m\n\u001b[32m     22\u001b[39m     (pl.col(\"annualized_realized_volatility\")\n\u001b[32m     23\u001b[39m      .rank(method=\u001b[33m\"average\"\u001b[39m)\n\u001b[32m---> \u001b[39m\u001b[32m24\u001b[39m      .over(pl.col(\u001b[33m\"ticker\"\u001b[39m), order_by=pl.col(\u001b[33m\"window_start\"\u001b[39m), mapping_strategy=\u001b[33m\"sliding_window\"\u001b[39m)\n\u001b[32m     25\u001b[39m      .rolling_map(\n\u001b[32m     26\u001b[39m          \u001b[38;5;28;01mlambda\u001b[39;00m s: ((s.tail(\u001b[32m1\u001b[39m).item() - \u001b[32m1\u001b[39m) / max(len(s) - \u001b[32m1\u001b[39m, \u001b[32m1\u001b[39m) * \u001b[32m100\u001b[39m) \u001b[38;5;28;01mif\u001b[39;00m len(s) > \u001b[32m1\u001b[39m \u001b[38;5;28;01melse\u001b[39;00m \u001b[32m50.0\u001b[39m,\n\u001b[32m     27\u001b[39m          window_size=rv_rank_window,\n",
      "\u001b[32m~/code/data-repo/.venv/lib/python3.13/site-packages/polars/expr/expr.py\u001b[39m in \u001b[36m?\u001b[39m\u001b[34m(self, partition_by, order_by, descending, nulls_last, mapping_strategy, *more_exprs)\u001b[39m\n\u001b[32m   3626\u001b[39m         \u001b[38;5;28;01melse\u001b[39;00m:\n\u001b[32m   3627\u001b[39m             order_by_pyexprs = \u001b[38;5;28;01mNone\u001b[39;00m\n\u001b[32m   3628\u001b[39m \n\u001b[32m   3629\u001b[39m         return wrap_expr(\n\u001b[32m-> \u001b[39m\u001b[32m3630\u001b[39m             self._pyexpr.over(\n\u001b[32m   3631\u001b[39m                 partition_by_pyexprs,\n\u001b[32m   3632\u001b[39m                 order_by=order_by_pyexprs,\n\u001b[32m   3633\u001b[39m                 order_by_descending=descending,\n",
      "\u001b[31mValueError\u001b[39m: `mapping_strategy` must be one of {'group_to_rows', 'join', 'explode'}, got sliding_window"
     ]
    }
   ],
   "source": [
    "# Calculate realized volatility using Garman-Klass estimator\n",
    "import numpy as np\n",
    "\n",
    "# Set the lookback window for RV rank calculation (in days)\n",
    "rv_rank_window = 20  # You can change this to any number of days\n",
    "\n",
    "stocks_df_with_rv = stocks_df.with_columns([\n",
    "    # Garman-Klass realized volatility estimator (daily)\n",
    "    (\n",
    "        0.5 * (pl.col(\"high\").log() - pl.col(\"low\").log()) ** 2 -\n",
    "        (2 * np.log(2) - 1) * (pl.col(\"close\").log() - pl.col(\"open\").log()) ** 2\n",
    "    ).alias(\"daily_realized_volatility\"),\n",
    "    \n",
    "    # Annualized realized volatility (multiply by sqrt(252) for trading days)\n",
    "    (\n",
    "        (0.5 * (pl.col(\"high\").log() - pl.col(\"low\").log()) ** 2 -\n",
    "         (2 * np.log(2) - 1) * (pl.col(\"close\").log() - pl.col(\"open\").log()) ** 2) * 252\n",
    "    ).sqrt().alias(\"annualized_realized_volatility\")\n",
    "]).sort(['ticker', 'window_start']).with_columns([\n",
    "    # Calculate rolling RV rank over specified window\n",
    "    # Shows percentile rank of current RV vs last N days for each ticker\n",
    "    (pl.col(\"annualized_realized_volatility\")\n",
    "     .rank(method=\"average\")\n",
    "     .over(pl.col(\"ticker\"), order_by=pl.col(\"window_start\"), mapping_strategy=\"sliding_window\")\n",
    "     .rolling_map(\n",
    "         lambda s: ((s.tail(1).item() - 1) / max(len(s) - 1, 1) * 100) if len(s) > 1 else 50.0,\n",
    "         window_size=rv_rank_window,\n",
    "         min_periods=2\n",
    "     )\n",
    "    ).alias(f\"rv_rank_{rv_rank_window}d_percentile\")\n",
    "])\n",
    "\n",
    "# Alternative simpler approach using rolling quantile\n",
    "stocks_df_with_rv = stocks_df_with_rv.with_columns([\n",
    "    # Rolling RV rank using quantile method\n",
    "    (pl.col(\"annualized_realized_volatility\")\n",
    "     .rolling_quantile(0.5, window_size=rv_rank_window, min_periods=2)\n",
    "     .over(pl.col(\"ticker\"), order_by=pl.col(\"window_start\"))\n",
    "    ).alias(f\"rv_median_{rv_rank_window}d\"),\n",
    "    \n",
    "    # Calculate percentile rank manually\n",
    "    (pl.when(pl.col(\"annualized_realized_volatility\") > \n",
    "             pl.col(\"annualized_realized_volatility\")\n",
    "             .rolling_quantile(0.5, window_size=rv_rank_window, min_periods=2)\n",
    "             .over(pl.col(\"ticker\"), order_by=pl.col(\"window_start\")))\n",
    "     .then(75.0)  # Above median\n",
    "     .when(pl.col(\"annualized_realized_volatility\") < \n",
    "           pl.col(\"annualized_realized_volatility\")\n",
    "           .rolling_quantile(0.5, window_size=rv_rank_window, min_periods=2)\n",
    "           .over(pl.col(\"ticker\"), order_by=pl.col(\"window_start\")))\n",
    "     .then(25.0)  # Below median\n",
    "     .otherwise(50.0)  # At median\n",
    "    ).alias(f\"rv_rank_{rv_rank_window}d_simple\")\n",
    "])\n",
    "\n",
    "# Check SPY volatility and rank\n",
    "spy_vol = stocks_df_with_rv.filter(pl.col('ticker') == 'SPY').select([\n",
    "    'ticker', 'window_start', 'annualized_realized_volatility', \n",
    "    f'rv_rank_{rv_rank_window}d_percentile', f'rv_rank_{rv_rank_window}d_simple'\n",
    "]).sort('window_start')\n",
    "\n",
    "print(f\"SPY volatility and {rv_rank_window}-day rolling RV rank:\")\n",
    "print(spy_vol)\n",
    "\n",
    "print(f\"\\nRV Rank ({rv_rank_window}-day window) distribution for all tickers:\")\n",
    "print(stocks_df_with_rv[f'rv_rank_{rv_rank_window}d_simple'].describe())\n",
    "\n",
    "stocks_df_with_rv.head(10)"
   ]
  }
 ],
 "metadata": {
  "kernelspec": {
   "display_name": ".venv (3.13.5)",
   "language": "python",
   "name": "python3"
  },
  "language_info": {
   "codemirror_mode": {
    "name": "ipython",
    "version": 3
   },
   "file_extension": ".py",
   "mimetype": "text/x-python",
   "name": "python",
   "nbconvert_exporter": "python",
   "pygments_lexer": "ipython3",
   "version": "3.13.5"
  }
 },
 "nbformat": 4,
 "nbformat_minor": 5
}
